{
 "cells": [
  {
   "cell_type": "markdown",
   "metadata": {},
   "source": [
    "# Political Bias Classification with Simple Neural Networks"
   ]
  },
  {
   "cell_type": "markdown",
   "metadata": {},
   "source": [
    "##### Importing Libraries and Loading data"
   ]
  },
  {
   "cell_type": "code",
   "execution_count": 17,
   "metadata": {
    "scrolled": true
   },
   "outputs": [
    {
     "name": "stderr",
     "output_type": "stream",
     "text": [
      "/Users/feihuyan/anaconda3/lib/python3.7/site-packages/ipykernel_launcher.py:4: FutureWarning: Passing a negative integer is deprecated in version 1.0 and will not be supported in future version. Instead, use None to not limit the column width.\n",
      "  after removing the cwd from sys.path.\n"
     ]
    }
   ],
   "source": [
    "import pandas as pd\n",
    "import numpy as np\n",
    "from tqdm import tqdm\n",
    "pd.set_option('display.max_colwidth', -1)"
   ]
  },
  {
   "cell_type": "code",
   "execution_count": 18,
   "metadata": {},
   "outputs": [],
   "source": [
    "df1 = pd.read_csv('/Users/feihuyan/Downloads/news/articles1.csv')\n",
    "df2 = pd.read_csv('/Users/feihuyan/Downloads/news/articles2.csv')\n",
    "df3 = pd.read_csv('/Users/feihuyan/Downloads/news/articles3.csv')"
   ]
  },
  {
   "cell_type": "code",
   "execution_count": 158,
   "metadata": {},
   "outputs": [],
   "source": [
    "df = pd.concat([df1, df2, df3])"
   ]
  },
  {
   "cell_type": "code",
   "execution_count": 159,
   "metadata": {},
   "outputs": [
    {
     "data": {
      "text/plain": [
       "{'Atlantic',\n",
       " 'Breitbart',\n",
       " 'Business Insider',\n",
       " 'Buzzfeed News',\n",
       " 'CNN',\n",
       " 'Fox News',\n",
       " 'Guardian',\n",
       " 'NPR',\n",
       " 'National Review',\n",
       " 'New York Post',\n",
       " 'New York Times',\n",
       " 'Reuters',\n",
       " 'Talking Points Memo',\n",
       " 'Vox',\n",
       " 'Washington Post'}"
      ]
     },
     "execution_count": 159,
     "metadata": {},
     "output_type": "execute_result"
    }
   ],
   "source": [
    "set(df['publication'])"
   ]
  },
  {
   "cell_type": "code",
   "execution_count": 160,
   "metadata": {},
   "outputs": [],
   "source": [
    "bias = { 'Atlantic': 2,\n",
    "         'Breitbart': 1,\n",
    "         'Business Insider': 2,\n",
    "         'Buzzfeed News': 2,\n",
    "         'CNN': 0,\n",
    "         'Fox News': 1,\n",
    "         'Guardian': 2,\n",
    "         'NPR': 2,\n",
    "         'National Review': 2,\n",
    "         'New York Post': 2,\n",
    "         'New York Times': 0,\n",
    "         'Reuters': 2,\n",
    "         'Talking Points Memo': 2,\n",
    "         'Vox': 2,\n",
    "         'Washington Post': 2}\n",
    "df['bias'] = df['publication'].map(bias)"
   ]
  },
  {
   "cell_type": "code",
   "execution_count": 26,
   "metadata": {},
   "outputs": [],
   "source": [
    "bias = { 'Atlantic': 0,\n",
    "         'Breitbart': 1,\n",
    "         'Business Insider': 0,\n",
    "         'Buzzfeed News': 0,\n",
    "         'CNN': 0,\n",
    "         'Fox News': 1,\n",
    "         'Guardian': 0,\n",
    "         'NPR': 0,\n",
    "         'National Review': 1,\n",
    "         'New York Post': 1,\n",
    "         'New York Times': 0,\n",
    "         'Reuters': 2,\n",
    "         'Talking Points Memo': 0,\n",
    "         'Vox': 0,\n",
    "         'Washington Post': 0}\n",
    "df['bias'] = df['publication'].map(bias)"
   ]
  },
  {
   "cell_type": "code",
   "execution_count": 161,
   "metadata": {},
   "outputs": [],
   "source": [
    "left = df[df['bias'] == 0]\n",
    "right = df[df['bias'] == 1]"
   ]
  },
  {
   "cell_type": "markdown",
   "metadata": {},
   "source": [
    "### Passage to Sentence "
   ]
  },
  {
   "cell_type": "code",
   "execution_count": 162,
   "metadata": {},
   "outputs": [],
   "source": [
    "from nltk.tokenize import sent_tokenize"
   ]
  },
  {
   "cell_type": "code",
   "execution_count": 163,
   "metadata": {},
   "outputs": [],
   "source": [
    "def passage_to_sentences(df, political_affiliation):\n",
    "    l = []\n",
    "    for row in tqdm(df):\n",
    "        for sentence in sent_tokenize(row):\n",
    "            l.append(sentence)\n",
    "    result = pd.DataFrame({'text': l, 'target': political_affiliation})\n",
    "    return result"
   ]
  },
  {
   "cell_type": "code",
   "execution_count": 164,
   "metadata": {},
   "outputs": [
    {
     "name": "stderr",
     "output_type": "stream",
     "text": [
      "100%|██████████| 19291/19291 [00:37<00:00, 520.59it/s]\n"
     ]
    }
   ],
   "source": [
    "left_sent = passage_to_sentences(left['content'], 0)"
   ]
  },
  {
   "cell_type": "code",
   "execution_count": 165,
   "metadata": {
    "scrolled": true
   },
   "outputs": [
    {
     "name": "stderr",
     "output_type": "stream",
     "text": [
      "100%|██████████| 28135/28135 [00:29<00:00, 956.39it/s] \n"
     ]
    }
   ],
   "source": [
    "right_sent = passage_to_sentences(right['content'], 1)"
   ]
  },
  {
   "cell_type": "code",
   "execution_count": 166,
   "metadata": {},
   "outputs": [
    {
     "data": {
      "text/html": [
       "<div>\n",
       "<style scoped>\n",
       "    .dataframe tbody tr th:only-of-type {\n",
       "        vertical-align: middle;\n",
       "    }\n",
       "\n",
       "    .dataframe tbody tr th {\n",
       "        vertical-align: top;\n",
       "    }\n",
       "\n",
       "    .dataframe thead th {\n",
       "        text-align: right;\n",
       "    }\n",
       "</style>\n",
       "<table border=\"1\" class=\"dataframe\">\n",
       "  <thead>\n",
       "    <tr style=\"text-align: right;\">\n",
       "      <th></th>\n",
       "      <th>text</th>\n",
       "      <th>target</th>\n",
       "    </tr>\n",
       "  </thead>\n",
       "  <tbody>\n",
       "    <tr>\n",
       "      <th>0</th>\n",
       "      <td>WASHINGTON  —   Congressional Republicans have a new fear when it comes to their    health care lawsuit against the Obama administration: They might win.</td>\n",
       "      <td>0</td>\n",
       "    </tr>\n",
       "    <tr>\n",
       "      <th>1</th>\n",
       "      <td>The incoming Trump administration could choose to no longer defend the executive branch against the suit, which challenges the administration’s authority to spend billions of dollars on health insurance subsidies for   and   Americans, handing House Republicans a big victory on    issues.</td>\n",
       "      <td>0</td>\n",
       "    </tr>\n",
       "    <tr>\n",
       "      <th>2</th>\n",
       "      <td>But a sudden loss of the disputed subsidies could conceivably cause the health care program to implode, leaving millions of people without access to health insurance before Republicans have prepared a replacement.</td>\n",
       "      <td>0</td>\n",
       "    </tr>\n",
       "    <tr>\n",
       "      <th>3</th>\n",
       "      <td>That could lead to chaos in the insurance market and spur a political backlash just as Republicans gain full control of the government.</td>\n",
       "      <td>0</td>\n",
       "    </tr>\n",
       "    <tr>\n",
       "      <th>4</th>\n",
       "      <td>To stave off that outcome, Republicans could find themselves in the awkward position of appropriating huge sums to temporarily prop up the Obama health care law, angering conservative voters who have been demanding an end to the law for years.</td>\n",
       "      <td>0</td>\n",
       "    </tr>\n",
       "  </tbody>\n",
       "</table>\n",
       "</div>"
      ],
      "text/plain": [
       "                                                                                                                                                                                                                                                                                                text  \\\n",
       "0  WASHINGTON  —   Congressional Republicans have a new fear when it comes to their    health care lawsuit against the Obama administration: They might win.                                                                                                                                           \n",
       "1  The incoming Trump administration could choose to no longer defend the executive branch against the suit, which challenges the administration’s authority to spend billions of dollars on health insurance subsidies for   and   Americans, handing House Republicans a big victory on    issues.   \n",
       "2  But a sudden loss of the disputed subsidies could conceivably cause the health care program to implode, leaving millions of people without access to health insurance before Republicans have prepared a replacement.                                                                               \n",
       "3  That could lead to chaos in the insurance market and spur a political backlash just as Republicans gain full control of the government.                                                                                                                                                             \n",
       "4  To stave off that outcome, Republicans could find themselves in the awkward position of appropriating huge sums to temporarily prop up the Obama health care law, angering conservative voters who have been demanding an end to the law for years.                                                 \n",
       "\n",
       "   target  \n",
       "0  0       \n",
       "1  0       \n",
       "2  0       \n",
       "3  0       \n",
       "4  0       "
      ]
     },
     "execution_count": 166,
     "metadata": {},
     "output_type": "execute_result"
    }
   ],
   "source": [
    "left_sent.head(5)"
   ]
  },
  {
   "cell_type": "code",
   "execution_count": 167,
   "metadata": {},
   "outputs": [
    {
     "data": {
      "text/html": [
       "<div>\n",
       "<style scoped>\n",
       "    .dataframe tbody tr th:only-of-type {\n",
       "        vertical-align: middle;\n",
       "    }\n",
       "\n",
       "    .dataframe tbody tr th {\n",
       "        vertical-align: top;\n",
       "    }\n",
       "\n",
       "    .dataframe thead th {\n",
       "        text-align: right;\n",
       "    }\n",
       "</style>\n",
       "<table border=\"1\" class=\"dataframe\">\n",
       "  <thead>\n",
       "    <tr style=\"text-align: right;\">\n",
       "      <th></th>\n",
       "      <th>text</th>\n",
       "      <th>target</th>\n",
       "    </tr>\n",
       "  </thead>\n",
       "  <tbody>\n",
       "    <tr>\n",
       "      <th>0</th>\n",
       "      <td>On Tuesday’s broadcast of CNN’s “Situation Room,” CNN Senior Washington Correspondent Jeff Zeleny stated that Chelsea Manning’s transition from a man to a woman “certainly played into” President Obama’s decision to commute Manning’s sentence, and “Without that, it’s hard to imagine, I think, this president would have done that.</td>\n",
       "      <td>1</td>\n",
       "    </tr>\n",
       "    <tr>\n",
       "      <th>1</th>\n",
       "      <td>”  Zeleny said, “I think a question that this president the White House will have to answer here  —   will answer, and I think it’s an important one, if  —   how much was the personal story of Chelsea Manning involved in this, because the outcry from the left was so strong on this.</td>\n",
       "      <td>1</td>\n",
       "    </tr>\n",
       "    <tr>\n",
       "      <th>2</th>\n",
       "      <td>And she’s having a difficult time in federal prison, no question.</td>\n",
       "      <td>1</td>\n",
       "    </tr>\n",
       "    <tr>\n",
       "      <th>3</th>\n",
       "      <td>But, to me, that is a central question here.</td>\n",
       "      <td>1</td>\n",
       "    </tr>\n",
       "    <tr>\n",
       "      <th>4</th>\n",
       "      <td>Without that, you have to wonder if the outcome would be the same.</td>\n",
       "      <td>1</td>\n",
       "    </tr>\n",
       "  </tbody>\n",
       "</table>\n",
       "</div>"
      ],
      "text/plain": [
       "                                                                                                                                                                                                                                                                                                                                        text  \\\n",
       "0  On Tuesday’s broadcast of CNN’s “Situation Room,” CNN Senior Washington Correspondent Jeff Zeleny stated that Chelsea Manning’s transition from a man to a woman “certainly played into” President Obama’s decision to commute Manning’s sentence, and “Without that, it’s hard to imagine, I think, this president would have done that.   \n",
       "1  ”  Zeleny said, “I think a question that this president the White House will have to answer here  —   will answer, and I think it’s an important one, if  —   how much was the personal story of Chelsea Manning involved in this, because the outcry from the left was so strong on this.                                                  \n",
       "2  And she’s having a difficult time in federal prison, no question.                                                                                                                                                                                                                                                                           \n",
       "3  But, to me, that is a central question here.                                                                                                                                                                                                                                                                                                \n",
       "4  Without that, you have to wonder if the outcome would be the same.                                                                                                                                                                                                                                                                          \n",
       "\n",
       "   target  \n",
       "0  1       \n",
       "1  1       \n",
       "2  1       \n",
       "3  1       \n",
       "4  1       "
      ]
     },
     "execution_count": 167,
     "metadata": {},
     "output_type": "execute_result"
    }
   ],
   "source": [
    "right_sent.head(5)"
   ]
  },
  {
   "cell_type": "code",
   "execution_count": 168,
   "metadata": {},
   "outputs": [
    {
     "data": {
      "text/html": [
       "<div>\n",
       "<style scoped>\n",
       "    .dataframe tbody tr th:only-of-type {\n",
       "        vertical-align: middle;\n",
       "    }\n",
       "\n",
       "    .dataframe tbody tr th {\n",
       "        vertical-align: top;\n",
       "    }\n",
       "\n",
       "    .dataframe thead th {\n",
       "        text-align: right;\n",
       "    }\n",
       "</style>\n",
       "<table border=\"1\" class=\"dataframe\">\n",
       "  <thead>\n",
       "    <tr style=\"text-align: right;\">\n",
       "      <th></th>\n",
       "      <th>text</th>\n",
       "      <th>target</th>\n",
       "    </tr>\n",
       "  </thead>\n",
       "  <tbody>\n",
       "    <tr>\n",
       "      <th>438349</th>\n",
       "      <td>The day of the shooting, he’d posted a quote on Facebook from baseball great Jackie Robinson: ”A life is not important except in the impact it has on other lives.”</td>\n",
       "      <td>0</td>\n",
       "    </tr>\n",
       "    <tr>\n",
       "      <th>284486</th>\n",
       "      <td>They are also the   segment of the population in Buffalo.</td>\n",
       "      <td>1</td>\n",
       "    </tr>\n",
       "    <tr>\n",
       "      <th>635652</th>\n",
       "      <td>I knew Mike had access to a fun, fiery and somewhat sacred space in his community: a barbershop.</td>\n",
       "      <td>0</td>\n",
       "    </tr>\n",
       "    <tr>\n",
       "      <th>292898</th>\n",
       "      <td>Contrary to what you might expect, it is very likely that last night’s scandalous resolution will accelerate this process, because it is the straw that broke the camel’s back.</td>\n",
       "      <td>1</td>\n",
       "    </tr>\n",
       "    <tr>\n",
       "      <th>245947</th>\n",
       "      <td>Republicans are on track to hold at least 240 seats in the House next year.</td>\n",
       "      <td>1</td>\n",
       "    </tr>\n",
       "  </tbody>\n",
       "</table>\n",
       "</div>"
      ],
      "text/plain": [
       "                                                                                                                                                                                   text  \\\n",
       "438349  The day of the shooting, he’d posted a quote on Facebook from baseball great Jackie Robinson: ”A life is not important except in the impact it has on other lives.”               \n",
       "284486  They are also the   segment of the population in Buffalo.                                                                                                                         \n",
       "635652  I knew Mike had access to a fun, fiery and somewhat sacred space in his community: a barbershop.                                                                                  \n",
       "292898  Contrary to what you might expect, it is very likely that last night’s scandalous resolution will accelerate this process, because it is the straw that broke the camel’s back.   \n",
       "245947  Republicans are on track to hold at least 240 seats in the House next year.                                                                                                       \n",
       "\n",
       "        target  \n",
       "438349  0       \n",
       "284486  1       \n",
       "635652  0       \n",
       "292898  1       \n",
       "245947  1       "
      ]
     },
     "execution_count": 168,
     "metadata": {},
     "output_type": "execute_result"
    }
   ],
   "source": [
    "train_df = pd.concat([left_sent, right_sent])\n",
    "train_df = train_df.sample(frac=1)\n",
    "train_df.head(5)"
   ]
  },
  {
   "cell_type": "markdown",
   "metadata": {},
   "source": [
    "### Setting Up Embedding Matrix"
   ]
  },
  {
   "cell_type": "code",
   "execution_count": 169,
   "metadata": {},
   "outputs": [],
   "source": [
    "from keras.preprocessing.text import Tokenizer\n",
    "from keras.preprocessing.sequence import pad_sequences"
   ]
  },
  {
   "cell_type": "code",
   "execution_count": 170,
   "metadata": {},
   "outputs": [],
   "source": [
    "max_features = 30000\n",
    "maxlen = 25\n",
    "\n",
    "tokenizer = Tokenizer(num_words=max_features)\n",
    "tokenizer.fit_on_texts(list(train_df['text']))\n",
    "X = tokenizer.texts_to_sequences(list(train_df['text']))\n",
    "X = pad_sequences(X, maxlen = maxlen)\n",
    "y = train_df['target']"
   ]
  },
  {
   "cell_type": "code",
   "execution_count": 171,
   "metadata": {},
   "outputs": [
    {
     "name": "stderr",
     "output_type": "stream",
     "text": [
      "1193514it [00:53, 22492.31it/s]\n"
     ]
    }
   ],
   "source": [
    "embedding_size = 200\n",
    "embedding_file = '/Users/feihuyan/Downloads/glove.twitter.27B.200d.txt'\n",
    "embedding_index = {}\n",
    "file = open(embedding_file)\n",
    "for line in tqdm(file):\n",
    "    values = line.split()\n",
    "    word = values[0]\n",
    "    coefs = np.asarray(values[1:], dtype='float32')\n",
    "    embedding_index[word] = coefs"
   ]
  },
  {
   "cell_type": "code",
   "execution_count": 172,
   "metadata": {},
   "outputs": [],
   "source": [
    "word_index = tokenizer.word_index\n",
    "nb_words = min(max_features, len(word_index))\n",
    "\n",
    "embedding_matrix = np.zeros((nb_words, embedding_size))\n",
    "for word, i in tokenizer.word_index.items():\n",
    "    if i >= max_features: continue\n",
    "    embedding_vector = embedding_index.get(word)\n",
    "    if embedding_vector is not None:\n",
    "        embedding_matrix[i] = embedding_vector"
   ]
  },
  {
   "cell_type": "code",
   "execution_count": 173,
   "metadata": {},
   "outputs": [
    {
     "name": "stdout",
     "output_type": "stream",
     "text": [
      "(1498398, 25)\n",
      "(1498398,)\n"
     ]
    }
   ],
   "source": [
    "print(X.shape)\n",
    "print(y.shape)"
   ]
  },
  {
   "cell_type": "code",
   "execution_count": 174,
   "metadata": {},
   "outputs": [
    {
     "data": {
      "text/plain": [
       "(30000, 200)"
      ]
     },
     "execution_count": 174,
     "metadata": {},
     "output_type": "execute_result"
    }
   ],
   "source": [
    "embedding_matrix.shape"
   ]
  },
  {
   "cell_type": "code",
   "execution_count": 175,
   "metadata": {},
   "outputs": [],
   "source": [
    "import tensorflow as tf\n",
    "from tensorflow import keras\n",
    "from keras.models import Sequential\n",
    "from keras.layers import Dense, Input, CuDNNLSTM, Embedding, Dropout, Activation, Flatten, Bidirectional, GlobalMaxPool1D\n",
    "from keras.optimizers import adam"
   ]
  },
  {
   "cell_type": "markdown",
   "metadata": {},
   "source": [
    "## Neural Network without Memory Feature, but with Embeddings"
   ]
  },
  {
   "cell_type": "markdown",
   "metadata": {},
   "source": [
    "#### Using Average Pooling"
   ]
  },
  {
   "cell_type": "code",
   "execution_count": 472,
   "metadata": {},
   "outputs": [
    {
     "name": "stdout",
     "output_type": "stream",
     "text": [
      "Model: \"sequential_24\"\n",
      "_________________________________________________________________\n",
      "Layer (type)                 Output Shape              Param #   \n",
      "=================================================================\n",
      "embedding_7 (Embedding)      (None, None, 200)         6000000   \n",
      "_________________________________________________________________\n",
      "global_average_pooling1d_7 ( (None, 200)               0         \n",
      "_________________________________________________________________\n",
      "dense_48 (Dense)             (None, 24)                4824      \n",
      "_________________________________________________________________\n",
      "dense_49 (Dense)             (None, 1)                 25        \n",
      "=================================================================\n",
      "Total params: 6,004,849\n",
      "Trainable params: 6,004,849\n",
      "Non-trainable params: 0\n",
      "_________________________________________________________________\n"
     ]
    }
   ],
   "source": [
    "model = tf.keras.Sequential([\n",
    "    tf.keras.layers.Embedding(max_features, embedding_size, weights=[embedding_matrix]),\n",
    "    tf.keras.layers.GlobalAveragePooling1D(),\n",
    "    tf.keras.layers.Dense(24, activation='relu'),\n",
    "    tf.keras.layers.Dense(1, activation='sigmoid')\n",
    "])\n",
    "opt = keras.optimizers.Adam(learning_rate=0.0002)\n",
    "model.compile(loss='binary_crossentropy',optimizer=opt,metrics=['accuracy'])\n",
    "model.summary()"
   ]
  },
  {
   "cell_type": "code",
   "execution_count": 473,
   "metadata": {},
   "outputs": [
    {
     "name": "stdout",
     "output_type": "stream",
     "text": [
      "Epoch 1/10\n",
      "11988/11988 [==============================] - 413s 34ms/step - loss: 0.5377 - accuracy: 0.7205 - val_loss: 0.5048 - val_accuracy: 0.7452\n",
      "Epoch 2/10\n",
      "11988/11988 [==============================] - 405s 34ms/step - loss: 0.4930 - accuracy: 0.7520 - val_loss: 0.4968 - val_accuracy: 0.7499\n",
      "Epoch 3/10\n",
      "11988/11988 [==============================] - 398s 33ms/step - loss: 0.4827 - accuracy: 0.7582 - val_loss: 0.4903 - val_accuracy: 0.7543\n",
      "Epoch 4/10\n",
      "11988/11988 [==============================] - 394s 33ms/step - loss: 0.4755 - accuracy: 0.7630 - val_loss: 0.4871 - val_accuracy: 0.7557\n",
      "Epoch 5/10\n",
      "11988/11988 [==============================] - 415s 35ms/step - loss: 0.4693 - accuracy: 0.7666 - val_loss: 0.4850 - val_accuracy: 0.7581\n",
      "Epoch 6/10\n",
      "11988/11988 [==============================] - 420s 35ms/step - loss: 0.4634 - accuracy: 0.7703 - val_loss: 0.4828 - val_accuracy: 0.7595\n",
      "Epoch 7/10\n",
      "11988/11988 [==============================] - 415s 35ms/step - loss: 0.4577 - accuracy: 0.7743 - val_loss: 0.4816 - val_accuracy: 0.7611\n",
      "Epoch 8/10\n",
      "11988/11988 [==============================] - 395s 33ms/step - loss: 0.4521 - accuracy: 0.7774 - val_loss: 0.4808 - val_accuracy: 0.7611\n",
      "Epoch 9/10\n",
      "11988/11988 [==============================] - 396s 33ms/step - loss: 0.4468 - accuracy: 0.7811 - val_loss: 0.4817 - val_accuracy: 0.7619\n",
      "Epoch 10/10\n",
      "11988/11988 [==============================] - 397s 33ms/step - loss: 0.4415 - accuracy: 0.7844 - val_loss: 0.4819 - val_accuracy: 0.7620\n"
     ]
    }
   ],
   "source": [
    "batch_size = 100\n",
    "epochs = 10\n",
    "history = model.fit(X, \n",
    "                     y, \n",
    "                     batch_size=batch_size, \n",
    "                     epochs=epochs, \n",
    "                     validation_split=0.2)"
   ]
  },
  {
   "cell_type": "code",
   "execution_count": 474,
   "metadata": {},
   "outputs": [
    {
     "data": {
      "image/png": "[encoded data removed]",
      "text/plain": [
       "<Figure size 432x288 with 1 Axes>"
      ]
     },
     "metadata": {
      "needs_background": "light"
     },
     "output_type": "display_data"
    },
    {
     "data": {
      "image/png": "[encoded data removed]",
      "text/plain": [
       "<Figure size 432x288 with 1 Axes>"
      ]
     },
     "metadata": {
      "needs_background": "light"
     },
     "output_type": "display_data"
    }
   ],
   "source": [
    "import matplotlib.pyplot as plt\n",
    "\n",
    "\n",
    "def plot_graphs(history, string):\n",
    "  plt.plot(history.history[string])\n",
    "  plt.plot(history.history['val_'+string])\n",
    "  plt.xlabel(\"Epochs\")\n",
    "  plt.ylabel(string)\n",
    "  plt.legend([string, 'val_'+string])\n",
    "  plt.show()\n",
    "  \n",
    "plot_graphs(history, \"accuracy\")\n",
    "plot_graphs(history, \"loss\")"
   ]
  },
  {
   "cell_type": "code",
   "execution_count": 475,
   "metadata": {},
   "outputs": [],
   "source": [
    "def test(text, true_class, passage=True, check=True):\n",
    "    test_text = []\n",
    "    if passage: \n",
    "        for sentence in sent_tokenize(text):\n",
    "            test_text.append(sentence)\n",
    "    else:\n",
    "        test_text = [text]\n",
    "        \n",
    "    text_token = tokenizer.texts_to_sequences(test_text)\n",
    "    text_pad = pad_sequences(text_token, maxlen = maxlen)\n",
    "    pred_class = model.predict_classes(text_pad)\n",
    "    pred_score = model.predict(text_pad)\n",
    "    naive_loss = abs(true_class - pred_score)\n",
    "    \n",
    "    pol_class = 'right'\n",
    "    content = 'sentence'\n",
    "    success = 'succeeds'\n",
    " \n",
    "    pred_score_passage = np.sum(pred_score)/int(len(text_pad))\n",
    "    if passage:\n",
    "        pred_class = 1\n",
    "        if pred_score_passage < 0.5: pred_class, pol_class = 0, 'left'\n",
    "        bias = float(abs(0.5-pred_score_passage)/0.5*100)\n",
    "        content = 'passage'\n",
    "        if check: \n",
    "            if pred_class != true_class: success = 'fails'\n",
    "    else:\n",
    "        if pred_score < 0.5: pol_class = 'left'\n",
    "        bias = float(abs(0.5-pred_score)/0.5*100)\n",
    "        if check: \n",
    "            if pred_class != true_class: success = 'fails'\n",
    "    \n",
    "    print('===========================================================================')\n",
    "    print('Your answer:')\n",
    "    print('------------')\n",
    "    print(f'  - This {content} leans toward the {pol_class} in the political spectrum.')\n",
    "    print(f'  - It is approximately {bias: .2f}% percent biased to the {pol_class}.')\n",
    "    print(f'  - This model {success} in predicting the political bias.')\n",
    "    print('===========================================================================')\n",
    "    \n",
    "    return pred_class, pred_score, naive_loss"
   ]
  },
  {
   "cell_type": "markdown",
   "metadata": {},
   "source": [
    "### Test Case A: right-leaning sentences"
   ]
  },
  {
   "cell_type": "markdown",
   "metadata": {},
   "source": [
    "##### A1)."
   ]
  },
  {
   "cell_type": "code",
   "execution_count": 476,
   "metadata": {},
   "outputs": [],
   "source": [
    "fox_test1 = 'Top Republicans hit back at Pelosi for hypercharged language, calling GOP enemies of the state'"
   ]
  },
  {
   "cell_type": "code",
   "execution_count": 477,
   "metadata": {},
   "outputs": [
    {
     "data": {
      "text/plain": [
       "'Top Republicans hit back at Pelosi for hypercharged language, calling GOP enemies of the state'"
      ]
     },
     "execution_count": 477,
     "metadata": {},
     "output_type": "execute_result"
    }
   ],
   "source": [
    "fox_test1"
   ]
  },
  {
   "cell_type": "code",
   "execution_count": 478,
   "metadata": {},
   "outputs": [
    {
     "name": "stdout",
     "output_type": "stream",
     "text": [
      "===========================================================================\n",
      "Your answer:\n",
      "------------\n",
      "  - This sentence leans toward the right in the political spectrum.\n",
      "  - It is approximately  63.17% percent biased to the right.\n",
      "  - This model succeeds in predicting the political bias.\n",
      "===========================================================================\n"
     ]
    },
    {
     "data": {
      "text/plain": [
       "(array([[1]], dtype=int32),\n",
       " array([[0.81587255]], dtype=float32),\n",
       " array([[0.18412745]], dtype=float32))"
      ]
     },
     "execution_count": 478,
     "metadata": {},
     "output_type": "execute_result"
    }
   ],
   "source": [
    "test(fox_test1, 1, passage=False)"
   ]
  },
  {
   "cell_type": "markdown",
   "metadata": {},
   "source": [
    "##### A2)."
   ]
  },
  {
   "cell_type": "code",
   "execution_count": 479,
   "metadata": {},
   "outputs": [],
   "source": [
    "fox_test2 = 'While the 2016 Republican convention was riddled with tension and protests over Donald Trump\"s rise at the GOP nominee, four years later the gathering is dissent free as the four-day confab serves as a celebration of Trump – and a testament to the president\"s complete takeover of the party.'"
   ]
  },
  {
   "cell_type": "code",
   "execution_count": 480,
   "metadata": {},
   "outputs": [
    {
     "data": {
      "text/plain": [
       "'While the 2016 Republican convention was riddled with tension and protests over Donald Trump\"s rise at the GOP nominee, four years later the gathering is dissent free as the four-day confab serves as a celebration of Trump – and a testament to the president\"s complete takeover of the party.'"
      ]
     },
     "execution_count": 480,
     "metadata": {},
     "output_type": "execute_result"
    }
   ],
   "source": [
    "fox_test2"
   ]
  },
  {
   "cell_type": "code",
   "execution_count": 481,
   "metadata": {},
   "outputs": [
    {
     "name": "stdout",
     "output_type": "stream",
     "text": [
      "===========================================================================\n",
      "Your answer:\n",
      "------------\n",
      "  - This sentence leans toward the right in the political spectrum.\n",
      "  - It is approximately  18.92% percent biased to the right.\n",
      "  - This model succeeds in predicting the political bias.\n",
      "===========================================================================\n"
     ]
    },
    {
     "data": {
      "text/plain": [
       "(array([[1]], dtype=int32),\n",
       " array([[0.5945752]], dtype=float32),\n",
       " array([[0.40542477]], dtype=float32))"
      ]
     },
     "execution_count": 481,
     "metadata": {},
     "output_type": "execute_result"
    }
   ],
   "source": [
    "test(fox_test2, 1, passage=False)"
   ]
  },
  {
   "cell_type": "markdown",
   "metadata": {},
   "source": [
    "### Test Case B: left-leaning sentences"
   ]
  },
  {
   "cell_type": "markdown",
   "metadata": {},
   "source": [
    "##### B1)."
   ]
  },
  {
   "cell_type": "code",
   "execution_count": 482,
   "metadata": {},
   "outputs": [],
   "source": [
    "cnn_test = 'House Republicans, while still strong in rural areas, are also at high risk for even further losses in the big metropolitan areas that keyed the Democratic surge in 2018.'"
   ]
  },
  {
   "cell_type": "code",
   "execution_count": 483,
   "metadata": {},
   "outputs": [
    {
     "data": {
      "text/plain": [
       "'House Republicans, while still strong in rural areas, are also at high risk for even further losses in the big metropolitan areas that keyed the Democratic surge in 2018.'"
      ]
     },
     "execution_count": 483,
     "metadata": {},
     "output_type": "execute_result"
    }
   ],
   "source": [
    "cnn_test"
   ]
  },
  {
   "cell_type": "code",
   "execution_count": 484,
   "metadata": {},
   "outputs": [
    {
     "name": "stdout",
     "output_type": "stream",
     "text": [
      "===========================================================================\n",
      "Your answer:\n",
      "------------\n",
      "  - This sentence leans toward the left in the political spectrum.\n",
      "  - It is approximately  5.36% percent biased to the left.\n",
      "  - This model succeeds in predicting the political bias.\n",
      "===========================================================================\n"
     ]
    },
    {
     "data": {
      "text/plain": [
       "(array([[0]], dtype=int32),\n",
       " array([[0.47319362]], dtype=float32),\n",
       " array([[0.47319362]], dtype=float32))"
      ]
     },
     "execution_count": 484,
     "metadata": {},
     "output_type": "execute_result"
    }
   ],
   "source": [
    "test(cnn_test, 0, passage=False)"
   ]
  },
  {
   "cell_type": "markdown",
   "metadata": {},
   "source": [
    "##### B2)."
   ]
  },
  {
   "cell_type": "code",
   "execution_count": 485,
   "metadata": {},
   "outputs": [],
   "source": [
    "cnn_test2 = 'Evidence is growing that in November, the GOP could be pushed back further into its strongholds and lose more ground in diverse, growing metropolitan America, even if Trump finds a way to overcome his persistent deficits in national polls to Democratic nominee Joe Biden.'"
   ]
  },
  {
   "cell_type": "code",
   "execution_count": 486,
   "metadata": {},
   "outputs": [
    {
     "data": {
      "text/plain": [
       "'Evidence is growing that in November, the GOP could be pushed back further into its strongholds and lose more ground in diverse, growing metropolitan America, even if Trump finds a way to overcome his persistent deficits in national polls to Democratic nominee Joe Biden.'"
      ]
     },
     "execution_count": 486,
     "metadata": {},
     "output_type": "execute_result"
    }
   ],
   "source": [
    "cnn_test2"
   ]
  },
  {
   "cell_type": "code",
   "execution_count": 487,
   "metadata": {},
   "outputs": [
    {
     "name": "stdout",
     "output_type": "stream",
     "text": [
      "===========================================================================\n",
      "Your answer:\n",
      "------------\n",
      "  - This sentence leans toward the left in the political spectrum.\n",
      "  - It is approximately  21.43% percent biased to the left.\n",
      "  - This model succeeds in predicting the political bias.\n",
      "===========================================================================\n"
     ]
    },
    {
     "data": {
      "text/plain": [
       "(array([[0]], dtype=int32),\n",
       " array([[0.39284477]], dtype=float32),\n",
       " array([[0.39284477]], dtype=float32))"
      ]
     },
     "execution_count": 487,
     "metadata": {},
     "output_type": "execute_result"
    }
   ],
   "source": [
    "test(cnn_test2, 0, passage=False)"
   ]
  },
  {
   "cell_type": "markdown",
   "metadata": {},
   "source": [
    "### Test Case C: right-leaning passages"
   ]
  },
  {
   "cell_type": "markdown",
   "metadata": {},
   "source": [
    "##### C1)."
   ]
  },
  {
   "cell_type": "code",
   "execution_count": 488,
   "metadata": {},
   "outputs": [],
   "source": [
    "fox_test_passage = 'The Journal article, which cites the International Monetary Fund, states that the pandemic and the resulting economic shutdowns have led to the expectation that global output will fall 5% this year, which is “far worse than during the [2008] financial crisis. It has also led to 400 million jobs lost worldwide, according to the International Labor Organization, with 13 million job losses in the U.S. alone.'"
   ]
  },
  {
   "cell_type": "code",
   "execution_count": 489,
   "metadata": {},
   "outputs": [
    {
     "data": {
      "text/plain": [
       "'The Journal article, which cites the International Monetary Fund, states that the pandemic and the resulting economic shutdowns have led to the expectation that global output will fall 5% this year, which is “far worse than during the [2008] financial crisis. It has also led to 400 million jobs lost worldwide, according to the International Labor Organization, with 13 million job losses in the U.S. alone.'"
      ]
     },
     "execution_count": 489,
     "metadata": {},
     "output_type": "execute_result"
    }
   ],
   "source": [
    "fox_test_passage"
   ]
  },
  {
   "cell_type": "code",
   "execution_count": 490,
   "metadata": {},
   "outputs": [
    {
     "name": "stdout",
     "output_type": "stream",
     "text": [
      "===========================================================================\n",
      "Your answer:\n",
      "------------\n",
      "  - This passage leans toward the right in the political spectrum.\n",
      "  - It is approximately  46.18% percent biased to the right.\n",
      "  - This model succeeds in predicting the political bias.\n",
      "===========================================================================\n"
     ]
    },
    {
     "data": {
      "text/plain": [
       "(1,\n",
       " array([[0.6279074 ],\n",
       "        [0.83387244]], dtype=float32),\n",
       " array([[0.3720926 ],\n",
       "        [0.16612756]], dtype=float32))"
      ]
     },
     "execution_count": 490,
     "metadata": {},
     "output_type": "execute_result"
    }
   ],
   "source": [
    "test(fox_test_passage, 1, passage=True)"
   ]
  },
  {
   "cell_type": "markdown",
   "metadata": {},
   "source": [
    "##### C2)."
   ]
  },
  {
   "cell_type": "code",
   "execution_count": 491,
   "metadata": {},
   "outputs": [],
   "source": [
    "fox_test_passage2 = 'On Tuesday, Israeli Defense Minister Benny Gantz had his first official talk with his UAE counterpart. The two discussed security cooperation between their countries and other regional issues. This, after Pompeo met Monday with Israeli Prime Minister Benjamin Netanyahu in Jerusalem and in a statement afterward slammed others for not supporting more pressure on Iranian leadership in Tehran. But to the backdrop of the election year, America’s top diplomat has been pressing hard to mend regional ties for Israel while isolating Iran. He was at the United Nations last week where he triggered a sanctions snapback on Iran for violations of the 2015 nuclear deal and continued provocative action in the Middle East.'"
   ]
  },
  {
   "cell_type": "code",
   "execution_count": 492,
   "metadata": {},
   "outputs": [
    {
     "data": {
      "text/plain": [
       "'On Tuesday, Israeli Defense Minister Benny Gantz had his first official talk with his UAE counterpart. The two discussed security cooperation between their countries and other regional issues. This, after Pompeo met Monday with Israeli Prime Minister Benjamin Netanyahu in Jerusalem and in a statement afterward slammed others for not supporting more pressure on Iranian leadership in Tehran. But to the backdrop of the election year, America’s top diplomat has been pressing hard to mend regional ties for Israel while isolating Iran. He was at the United Nations last week where he triggered a sanctions snapback on Iran for violations of the 2015 nuclear deal and continued provocative action in the Middle East.'"
      ]
     },
     "execution_count": 492,
     "metadata": {},
     "output_type": "execute_result"
    }
   ],
   "source": [
    "fox_test_passage2"
   ]
  },
  {
   "cell_type": "code",
   "execution_count": 493,
   "metadata": {},
   "outputs": [
    {
     "name": "stdout",
     "output_type": "stream",
     "text": [
      "===========================================================================\n",
      "Your answer:\n",
      "------------\n",
      "  - This passage leans toward the left in the political spectrum.\n",
      "  - It is approximately  12.65% percent biased to the left.\n",
      "  - This model fails in predicting the political bias.\n",
      "===========================================================================\n"
     ]
    },
    {
     "data": {
      "text/plain": [
       "(0,\n",
       " array([[0.4070173 ],\n",
       "        [0.3956162 ],\n",
       "        [0.5780364 ],\n",
       "        [0.27564016],\n",
       "        [0.52736986]], dtype=float32),\n",
       " array([[0.5929827 ],\n",
       "        [0.6043838 ],\n",
       "        [0.42196357],\n",
       "        [0.72435987],\n",
       "        [0.47263014]], dtype=float32))"
      ]
     },
     "execution_count": 493,
     "metadata": {},
     "output_type": "execute_result"
    }
   ],
   "source": [
    "test(fox_test_passage2, 1, passage=True)"
   ]
  },
  {
   "cell_type": "markdown",
   "metadata": {},
   "source": [
    "### Test Case D: left-leaning passages"
   ]
  },
  {
   "cell_type": "markdown",
   "metadata": {},
   "source": [
    "##### D1)."
   ]
  },
  {
   "cell_type": "code",
   "execution_count": 494,
   "metadata": {},
   "outputs": [],
   "source": [
    "cnn_test_passage = 'Compared with the 2016 GOP convention, which rippled with unresolved tension and resistance to Trump rise, the conspicuous absence of dissent at this years event underscores how the President has stamped the party with his trademark as surely as if it were one of his downtown skyscrapers. The party choice to skip passing a platform and instead approve a brief statement declaring it will enthusiastically support the Presidents America-first agenda testifies to his triumph.'           "
   ]
  },
  {
   "cell_type": "code",
   "execution_count": 495,
   "metadata": {},
   "outputs": [
    {
     "data": {
      "text/plain": [
       "'Compared with the 2016 GOP convention, which rippled with unresolved tension and resistance to Trump rise, the conspicuous absence of dissent at this years event underscores how the President has stamped the party with his trademark as surely as if it were one of his downtown skyscrapers. The party choice to skip passing a platform and instead approve a brief statement declaring it will enthusiastically support the Presidents America-first agenda testifies to his triumph.'"
      ]
     },
     "execution_count": 495,
     "metadata": {},
     "output_type": "execute_result"
    }
   ],
   "source": [
    "cnn_test_passage"
   ]
  },
  {
   "cell_type": "code",
   "execution_count": 496,
   "metadata": {},
   "outputs": [
    {
     "name": "stdout",
     "output_type": "stream",
     "text": [
      "===========================================================================\n",
      "Your answer:\n",
      "------------\n",
      "  - This passage leans toward the left in the political spectrum.\n",
      "  - It is approximately  89.27% percent biased to the left.\n",
      "  - This model succeeds in predicting the political bias.\n",
      "===========================================================================\n"
     ]
    },
    {
     "data": {
      "text/plain": [
       "(0,\n",
       " array([[0.02623698],\n",
       "        [0.08109915]], dtype=float32),\n",
       " array([[0.02623698],\n",
       "        [0.08109915]], dtype=float32))"
      ]
     },
     "execution_count": 496,
     "metadata": {},
     "output_type": "execute_result"
    }
   ],
   "source": [
    "test(cnn_test_passage, 0, passage=True)"
   ]
  },
  {
   "cell_type": "markdown",
   "metadata": {},
   "source": [
    "##### D2)."
   ]
  },
  {
   "cell_type": "code",
   "execution_count": 497,
   "metadata": {},
   "outputs": [],
   "source": [
    "cnn_test_passage2 = 'In 2016, Trump won very few of the states with the most immigrants, the most college graduates or the fewest White Christians, and polls show he could lose several of the small number he did carry in each category. House Republicans, while still strong in rural areas, are also at high risk for even further losses in the big metropolitan areas that keyed the Democratic surge in 2018. That same demographic and geographic realignment threatens embattled GOP senators in Arizona, Colorado, North Carolina, Maine and potentially Iowa, Georgia and conceivably even Texas. The conundrum facing the GOP will be visible in the passionate support for the President on display this week. As the previously Republican-leaning voters who can\"t abide Trump\"s definition drift away from the party a dynamic that Democrats highlighted last week by featuring so many prominent Republicans at their own convention -- what\"s left are those most bonded to Trump\"s polarizing approach. That will make it difficult to build a coalition for changing direction if Trump loses this fall, even if he takes down the GOP Senate majority with him.'"
   ]
  },
  {
   "cell_type": "code",
   "execution_count": 498,
   "metadata": {},
   "outputs": [
    {
     "data": {
      "text/plain": [
       "'In 2016, Trump won very few of the states with the most immigrants, the most college graduates or the fewest White Christians, and polls show he could lose several of the small number he did carry in each category. House Republicans, while still strong in rural areas, are also at high risk for even further losses in the big metropolitan areas that keyed the Democratic surge in 2018. That same demographic and geographic realignment threatens embattled GOP senators in Arizona, Colorado, North Carolina, Maine and potentially Iowa, Georgia and conceivably even Texas. The conundrum facing the GOP will be visible in the passionate support for the President on display this week. As the previously Republican-leaning voters who can\"t abide Trump\"s definition drift away from the party a dynamic that Democrats highlighted last week by featuring so many prominent Republicans at their own convention -- what\"s left are those most bonded to Trump\"s polarizing approach. That will make it difficult to build a coalition for changing direction if Trump loses this fall, even if he takes down the GOP Senate majority with him.'"
      ]
     },
     "execution_count": 498,
     "metadata": {},
     "output_type": "execute_result"
    }
   ],
   "source": [
    "cnn_test_passage2"
   ]
  },
  {
   "cell_type": "code",
   "execution_count": 499,
   "metadata": {},
   "outputs": [
    {
     "name": "stdout",
     "output_type": "stream",
     "text": [
      "===========================================================================\n",
      "Your answer:\n",
      "------------\n",
      "  - This passage leans toward the left in the political spectrum.\n",
      "  - It is approximately  2.91% percent biased to the left.\n",
      "  - This model succeeds in predicting the political bias.\n",
      "===========================================================================\n"
     ]
    },
    {
     "data": {
      "text/plain": [
       "(0,\n",
       " array([[0.5921637 ],\n",
       "        [0.47319373],\n",
       "        [0.6701286 ],\n",
       "        [0.31419173],\n",
       "        [0.25926378],\n",
       "        [0.6038317 ]], dtype=float32),\n",
       " array([[0.5921637 ],\n",
       "        [0.47319373],\n",
       "        [0.6701286 ],\n",
       "        [0.31419173],\n",
       "        [0.25926378],\n",
       "        [0.6038317 ]], dtype=float32))"
      ]
     },
     "execution_count": 499,
     "metadata": {},
     "output_type": "execute_result"
    }
   ],
   "source": [
    "test(cnn_test_passage2, 0, passage=True)"
   ]
  },
  {
   "cell_type": "code",
   "execution_count": null,
   "metadata": {},
   "outputs": [],
   "source": []
  }
 ],
 "metadata": {
  "kernelspec": {
   "display_name": "Python 3",
   "language": "python",
   "name": "python3"
  },
  "language_info": {
   "codemirror_mode": {
    "name": "ipython",
    "version": 3
   },
   "file_extension": ".py",
   "mimetype": "text/x-python",
   "name": "python",
   "nbconvert_exporter": "python",
   "pygments_lexer": "ipython3",
   "version": "3.7.7"
  }
 },
 "nbformat": 4,
 "nbformat_minor": 4
}
