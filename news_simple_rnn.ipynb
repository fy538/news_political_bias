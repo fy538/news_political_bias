{
 "cells": [
  {
   "cell_type": "markdown",
   "metadata": {},
   "source": [
    "# Political Bias Classification with RNN"
   ]
  },
  {
   "cell_type": "markdown",
   "metadata": {},
   "source": [
    "##### Importing Libraries and Loading data"
   ]
  },
  {
   "cell_type": "code",
   "execution_count": 1,
   "metadata": {
    "scrolled": true
   },
   "outputs": [
    {
     "name": "stderr",
     "output_type": "stream",
     "text": [
      "/Users/feihuyan/anaconda3/lib/python3.7/site-packages/ipykernel_launcher.py:4: FutureWarning: Passing a negative integer is deprecated in version 1.0 and will not be supported in future version. Instead, use None to not limit the column width.\n",
      "  after removing the cwd from sys.path.\n"
     ]
    }
   ],
   "source": [
    "import pandas as pd\n",
    "import numpy as np\n",
    "from tqdm import tqdm\n",
    "pd.set_option('display.max_colwidth', -1)"
   ]
  },
  {
   "cell_type": "code",
   "execution_count": 2,
   "metadata": {},
   "outputs": [],
   "source": [
    "df1 = pd.read_csv('/Users/feihuyan/Downloads/news/articles1.csv')\n",
    "df2 = pd.read_csv('/Users/feihuyan/Downloads/news/articles2.csv')\n",
    "df3 = pd.read_csv('/Users/feihuyan/Downloads/news/articles3.csv')"
   ]
  },
  {
   "cell_type": "code",
   "execution_count": 11,
   "metadata": {},
   "outputs": [],
   "source": [
    "df = pd.concat([df1, df2, df3])"
   ]
  },
  {
   "cell_type": "code",
   "execution_count": 12,
   "metadata": {
    "scrolled": true
   },
   "outputs": [
    {
     "data": {
      "text/plain": [
       "{'Atlantic',\n",
       " 'Breitbart',\n",
       " 'Business Insider',\n",
       " 'Buzzfeed News',\n",
       " 'CNN',\n",
       " 'Fox News',\n",
       " 'Guardian',\n",
       " 'NPR',\n",
       " 'National Review',\n",
       " 'New York Post',\n",
       " 'New York Times',\n",
       " 'Reuters',\n",
       " 'Talking Points Memo',\n",
       " 'Vox',\n",
       " 'Washington Post'}"
      ]
     },
     "execution_count": 12,
     "metadata": {},
     "output_type": "execute_result"
    }
   ],
   "source": [
    "set(df['publication'])"
   ]
  },
  {
   "cell_type": "code",
   "execution_count": 13,
   "metadata": {},
   "outputs": [],
   "source": [
    "bias = { 'Atlantic': 2,\n",
    "         'Breitbart': 1,\n",
    "         'Business Insider': 2,\n",
    "         'Buzzfeed News': 2,\n",
    "         'CNN': 0,\n",
    "         'Fox News': 1,\n",
    "         'Guardian': 2,\n",
    "         'NPR': 2,\n",
    "         'National Review': 2,\n",
    "         'New York Post': 2,\n",
    "         'New York Times': 0,\n",
    "         'Reuters': 2,\n",
    "         'Talking Points Memo': 2,\n",
    "         'Vox': 2,\n",
    "         'Washington Post': 2}\n",
    "df['bias'] = df['publication'].map(bias)"
   ]
  },
  {
   "cell_type": "code",
   "execution_count": 6,
   "metadata": {},
   "outputs": [],
   "source": [
    "bias = { 'Atlantic': 0,\n",
    "         'Breitbart': 1,\n",
    "         'Business Insider': 0,\n",
    "         'Buzzfeed News': 0,\n",
    "         'CNN': 0,\n",
    "         'Fox News': 1,\n",
    "         'Guardian': 0,\n",
    "         'NPR': 0,\n",
    "         'National Review': 1,\n",
    "         'New York Post': 1,\n",
    "         'New York Times': 0,\n",
    "         'Reuters': 2,\n",
    "         'Talking Points Memo': 0,\n",
    "         'Vox': 0,\n",
    "         'Washington Post': 0}\n",
    "df['bias'] = df['publication'].map(bias)"
   ]
  },
  {
   "cell_type": "code",
   "execution_count": 14,
   "metadata": {},
   "outputs": [],
   "source": [
    "left = df[df['bias'] == 0]\n",
    "right = df[df['bias'] == 1]"
   ]
  },
  {
   "cell_type": "markdown",
   "metadata": {},
   "source": [
    "### Passage to Sentence "
   ]
  },
  {
   "cell_type": "code",
   "execution_count": 15,
   "metadata": {},
   "outputs": [],
   "source": [
    "from nltk.tokenize import sent_tokenize"
   ]
  },
  {
   "cell_type": "code",
   "execution_count": 16,
   "metadata": {},
   "outputs": [],
   "source": [
    "def passage_to_sentences(df, political_affiliation):\n",
    "    l = []\n",
    "    for row in tqdm(df):\n",
    "        for sentence in sent_tokenize(row):\n",
    "            l.append(sentence)\n",
    "    result = pd.DataFrame({'text': l, 'target': political_affiliation})\n",
    "    return result"
   ]
  },
  {
   "cell_type": "code",
   "execution_count": 17,
   "metadata": {},
   "outputs": [
    {
     "name": "stderr",
     "output_type": "stream",
     "text": [
      "100%|██████████| 19291/19291 [00:28<00:00, 673.75it/s] \n"
     ]
    }
   ],
   "source": [
    "left_sent = passage_to_sentences(left['content'], 0)"
   ]
  },
  {
   "cell_type": "code",
   "execution_count": 18,
   "metadata": {
    "scrolled": true
   },
   "outputs": [
    {
     "name": "stderr",
     "output_type": "stream",
     "text": [
      "100%|██████████| 28135/28135 [00:23<00:00, 1197.30it/s]\n"
     ]
    }
   ],
   "source": [
    "right_sent = passage_to_sentences(right['content'], 1)"
   ]
  },
  {
   "cell_type": "code",
   "execution_count": 19,
   "metadata": {},
   "outputs": [
    {
     "data": {
      "text/html": [
       "<div>\n",
       "<style scoped>\n",
       "    .dataframe tbody tr th:only-of-type {\n",
       "        vertical-align: middle;\n",
       "    }\n",
       "\n",
       "    .dataframe tbody tr th {\n",
       "        vertical-align: top;\n",
       "    }\n",
       "\n",
       "    .dataframe thead th {\n",
       "        text-align: right;\n",
       "    }\n",
       "</style>\n",
       "<table border=\"1\" class=\"dataframe\">\n",
       "  <thead>\n",
       "    <tr style=\"text-align: right;\">\n",
       "      <th></th>\n",
       "      <th>text</th>\n",
       "      <th>target</th>\n",
       "    </tr>\n",
       "  </thead>\n",
       "  <tbody>\n",
       "    <tr>\n",
       "      <th>0</th>\n",
       "      <td>WASHINGTON  —   Congressional Republicans have a new fear when it comes to their    health care lawsuit against the Obama administration: They might win.</td>\n",
       "      <td>0</td>\n",
       "    </tr>\n",
       "    <tr>\n",
       "      <th>1</th>\n",
       "      <td>The incoming Trump administration could choose to no longer defend the executive branch against the suit, which challenges the administration’s authority to spend billions of dollars on health insurance subsidies for   and   Americans, handing House Republicans a big victory on    issues.</td>\n",
       "      <td>0</td>\n",
       "    </tr>\n",
       "    <tr>\n",
       "      <th>2</th>\n",
       "      <td>But a sudden loss of the disputed subsidies could conceivably cause the health care program to implode, leaving millions of people without access to health insurance before Republicans have prepared a replacement.</td>\n",
       "      <td>0</td>\n",
       "    </tr>\n",
       "    <tr>\n",
       "      <th>3</th>\n",
       "      <td>That could lead to chaos in the insurance market and spur a political backlash just as Republicans gain full control of the government.</td>\n",
       "      <td>0</td>\n",
       "    </tr>\n",
       "    <tr>\n",
       "      <th>4</th>\n",
       "      <td>To stave off that outcome, Republicans could find themselves in the awkward position of appropriating huge sums to temporarily prop up the Obama health care law, angering conservative voters who have been demanding an end to the law for years.</td>\n",
       "      <td>0</td>\n",
       "    </tr>\n",
       "  </tbody>\n",
       "</table>\n",
       "</div>"
      ],
      "text/plain": [
       "                                                                                                                                                                                                                                                                                                text  \\\n",
       "0  WASHINGTON  —   Congressional Republicans have a new fear when it comes to their    health care lawsuit against the Obama administration: They might win.                                                                                                                                           \n",
       "1  The incoming Trump administration could choose to no longer defend the executive branch against the suit, which challenges the administration’s authority to spend billions of dollars on health insurance subsidies for   and   Americans, handing House Republicans a big victory on    issues.   \n",
       "2  But a sudden loss of the disputed subsidies could conceivably cause the health care program to implode, leaving millions of people without access to health insurance before Republicans have prepared a replacement.                                                                               \n",
       "3  That could lead to chaos in the insurance market and spur a political backlash just as Republicans gain full control of the government.                                                                                                                                                             \n",
       "4  To stave off that outcome, Republicans could find themselves in the awkward position of appropriating huge sums to temporarily prop up the Obama health care law, angering conservative voters who have been demanding an end to the law for years.                                                 \n",
       "\n",
       "   target  \n",
       "0  0       \n",
       "1  0       \n",
       "2  0       \n",
       "3  0       \n",
       "4  0       "
      ]
     },
     "execution_count": 19,
     "metadata": {},
     "output_type": "execute_result"
    }
   ],
   "source": [
    "left_sent.head(5)"
   ]
  },
  {
   "cell_type": "code",
   "execution_count": 20,
   "metadata": {},
   "outputs": [
    {
     "data": {
      "text/html": [
       "<div>\n",
       "<style scoped>\n",
       "    .dataframe tbody tr th:only-of-type {\n",
       "        vertical-align: middle;\n",
       "    }\n",
       "\n",
       "    .dataframe tbody tr th {\n",
       "        vertical-align: top;\n",
       "    }\n",
       "\n",
       "    .dataframe thead th {\n",
       "        text-align: right;\n",
       "    }\n",
       "</style>\n",
       "<table border=\"1\" class=\"dataframe\">\n",
       "  <thead>\n",
       "    <tr style=\"text-align: right;\">\n",
       "      <th></th>\n",
       "      <th>text</th>\n",
       "      <th>target</th>\n",
       "    </tr>\n",
       "  </thead>\n",
       "  <tbody>\n",
       "    <tr>\n",
       "      <th>0</th>\n",
       "      <td>On Tuesday’s broadcast of CNN’s “Situation Room,” CNN Senior Washington Correspondent Jeff Zeleny stated that Chelsea Manning’s transition from a man to a woman “certainly played into” President Obama’s decision to commute Manning’s sentence, and “Without that, it’s hard to imagine, I think, this president would have done that.</td>\n",
       "      <td>1</td>\n",
       "    </tr>\n",
       "    <tr>\n",
       "      <th>1</th>\n",
       "      <td>”  Zeleny said, “I think a question that this president the White House will have to answer here  —   will answer, and I think it’s an important one, if  —   how much was the personal story of Chelsea Manning involved in this, because the outcry from the left was so strong on this.</td>\n",
       "      <td>1</td>\n",
       "    </tr>\n",
       "    <tr>\n",
       "      <th>2</th>\n",
       "      <td>And she’s having a difficult time in federal prison, no question.</td>\n",
       "      <td>1</td>\n",
       "    </tr>\n",
       "    <tr>\n",
       "      <th>3</th>\n",
       "      <td>But, to me, that is a central question here.</td>\n",
       "      <td>1</td>\n",
       "    </tr>\n",
       "    <tr>\n",
       "      <th>4</th>\n",
       "      <td>Without that, you have to wonder if the outcome would be the same.</td>\n",
       "      <td>1</td>\n",
       "    </tr>\n",
       "  </tbody>\n",
       "</table>\n",
       "</div>"
      ],
      "text/plain": [
       "                                                                                                                                                                                                                                                                                                                                        text  \\\n",
       "0  On Tuesday’s broadcast of CNN’s “Situation Room,” CNN Senior Washington Correspondent Jeff Zeleny stated that Chelsea Manning’s transition from a man to a woman “certainly played into” President Obama’s decision to commute Manning’s sentence, and “Without that, it’s hard to imagine, I think, this president would have done that.   \n",
       "1  ”  Zeleny said, “I think a question that this president the White House will have to answer here  —   will answer, and I think it’s an important one, if  —   how much was the personal story of Chelsea Manning involved in this, because the outcry from the left was so strong on this.                                                  \n",
       "2  And she’s having a difficult time in federal prison, no question.                                                                                                                                                                                                                                                                           \n",
       "3  But, to me, that is a central question here.                                                                                                                                                                                                                                                                                                \n",
       "4  Without that, you have to wonder if the outcome would be the same.                                                                                                                                                                                                                                                                          \n",
       "\n",
       "   target  \n",
       "0  1       \n",
       "1  1       \n",
       "2  1       \n",
       "3  1       \n",
       "4  1       "
      ]
     },
     "execution_count": 20,
     "metadata": {},
     "output_type": "execute_result"
    }
   ],
   "source": [
    "right_sent.head(5)"
   ]
  },
  {
   "cell_type": "code",
   "execution_count": 21,
   "metadata": {},
   "outputs": [
    {
     "data": {
      "text/html": [
       "<div>\n",
       "<style scoped>\n",
       "    .dataframe tbody tr th:only-of-type {\n",
       "        vertical-align: middle;\n",
       "    }\n",
       "\n",
       "    .dataframe tbody tr th {\n",
       "        vertical-align: top;\n",
       "    }\n",
       "\n",
       "    .dataframe thead th {\n",
       "        text-align: right;\n",
       "    }\n",
       "</style>\n",
       "<table border=\"1\" class=\"dataframe\">\n",
       "  <thead>\n",
       "    <tr style=\"text-align: right;\">\n",
       "      <th></th>\n",
       "      <th>text</th>\n",
       "      <th>target</th>\n",
       "    </tr>\n",
       "  </thead>\n",
       "  <tbody>\n",
       "    <tr>\n",
       "      <th>801037</th>\n",
       "      <td>The Colorado jury predictably rejected his insanity defense, but that is not the end of the story.</td>\n",
       "      <td>0</td>\n",
       "    </tr>\n",
       "    <tr>\n",
       "      <th>188649</th>\n",
       "      <td>Major studies that started before it was approved found that among 1, 861 patients treated for advanced disease, about 22 percent were still alive three years later, with no signs of recurrence  —   an astounding result for a disease that was almost always fatal.</td>\n",
       "      <td>0</td>\n",
       "    </tr>\n",
       "    <tr>\n",
       "      <th>799803</th>\n",
       "      <td>But by delaying his official start to do so, Bush enters the summer without as many ”hard dollars” for his campaign that he can directly use for his travel, paid media and staffing.</td>\n",
       "      <td>0</td>\n",
       "    </tr>\n",
       "    <tr>\n",
       "      <th>565645</th>\n",
       "      <td>The reading took nearly an hour on Wednesday.</td>\n",
       "      <td>0</td>\n",
       "    </tr>\n",
       "    <tr>\n",
       "      <th>497288</th>\n",
       "      <td>It was less than ten minutes in.</td>\n",
       "      <td>1</td>\n",
       "    </tr>\n",
       "  </tbody>\n",
       "</table>\n",
       "</div>"
      ],
      "text/plain": [
       "                                                                                                                                                                                                                                                                           text  \\\n",
       "801037  The Colorado jury predictably rejected his insanity defense, but that is not the end of the story.                                                                                                                                                                        \n",
       "188649  Major studies that started before it was approved found that among 1, 861 patients treated for advanced disease, about 22 percent were still alive three years later, with no signs of recurrence  —   an astounding result for a disease that was almost always fatal.   \n",
       "799803  But by delaying his official start to do so, Bush enters the summer without as many ”hard dollars” for his campaign that he can directly use for his travel, paid media and staffing.                                                                                     \n",
       "565645  The reading took nearly an hour on Wednesday.                                                                                                                                                                                                                             \n",
       "497288  It was less than ten minutes in.                                                                                                                                                                                                                                          \n",
       "\n",
       "        target  \n",
       "801037  0       \n",
       "188649  0       \n",
       "799803  0       \n",
       "565645  0       \n",
       "497288  1       "
      ]
     },
     "execution_count": 21,
     "metadata": {},
     "output_type": "execute_result"
    }
   ],
   "source": [
    "train_df = pd.concat([left_sent, right_sent])\n",
    "train_df = train_df.sample(frac=1)\n",
    "train_df.head(5)"
   ]
  },
  {
   "cell_type": "markdown",
   "metadata": {},
   "source": [
    "### Setting Up Embedding Matrix"
   ]
  },
  {
   "cell_type": "code",
   "execution_count": 22,
   "metadata": {},
   "outputs": [
    {
     "name": "stderr",
     "output_type": "stream",
     "text": [
      "Using TensorFlow backend.\n"
     ]
    }
   ],
   "source": [
    "from keras.preprocessing.text import Tokenizer\n",
    "from keras.preprocessing.sequence import pad_sequences"
   ]
  },
  {
   "cell_type": "code",
   "execution_count": 23,
   "metadata": {},
   "outputs": [],
   "source": [
    "max_features = 30000\n",
    "maxlen = 25\n",
    "\n",
    "tokenizer = Tokenizer(num_words=max_features)\n",
    "tokenizer.fit_on_texts(list(train_df['text']))\n",
    "X = tokenizer.texts_to_sequences(list(train_df['text']))\n",
    "X = pad_sequences(X, maxlen = maxlen)\n",
    "y = train_df['target']"
   ]
  },
  {
   "cell_type": "code",
   "execution_count": 24,
   "metadata": {},
   "outputs": [
    {
     "name": "stderr",
     "output_type": "stream",
     "text": [
      "1193514it [00:53, 22246.41it/s]\n"
     ]
    }
   ],
   "source": [
    "embedding_size = 200\n",
    "embedding_file = '/Users/feihuyan/Downloads/glove.twitter.27B.200d.txt'\n",
    "embedding_index = {}\n",
    "file = open(embedding_file)\n",
    "for line in tqdm(file):\n",
    "    values = line.split()\n",
    "    word = values[0]\n",
    "    coefs = np.asarray(values[1:], dtype='float32')\n",
    "    embedding_index[word] = coefs"
   ]
  },
  {
   "cell_type": "code",
   "execution_count": 25,
   "metadata": {},
   "outputs": [],
   "source": [
    "word_index = tokenizer.word_index\n",
    "nb_words = min(max_features, len(word_index))\n",
    "\n",
    "embedding_matrix = np.zeros((nb_words, embedding_size))\n",
    "for word, i in tokenizer.word_index.items():\n",
    "    if i >= max_features: continue\n",
    "    embedding_vector = embedding_index.get(word)\n",
    "    if embedding_vector is not None:\n",
    "        embedding_matrix[i] = embedding_vector"
   ]
  },
  {
   "cell_type": "code",
   "execution_count": 26,
   "metadata": {},
   "outputs": [
    {
     "name": "stdout",
     "output_type": "stream",
     "text": [
      "(1498398, 25)\n",
      "(1498398,)\n"
     ]
    }
   ],
   "source": [
    "print(X.shape)\n",
    "print(y.shape)"
   ]
  },
  {
   "cell_type": "code",
   "execution_count": 27,
   "metadata": {},
   "outputs": [
    {
     "data": {
      "text/plain": [
       "(30000, 200)"
      ]
     },
     "execution_count": 27,
     "metadata": {},
     "output_type": "execute_result"
    }
   ],
   "source": [
    "embedding_matrix.shape"
   ]
  },
  {
   "cell_type": "code",
   "execution_count": 28,
   "metadata": {},
   "outputs": [],
   "source": [
    "import tensorflow as tf\n",
    "from tensorflow import keras\n",
    "from keras.models import Sequential\n",
    "from keras.layers import Dense, Input, CuDNNLSTM, Embedding, Dropout, Activation, Flatten, Bidirectional, GlobalMaxPool1D, SimpleRNN\n",
    "from keras.optimizers import adam"
   ]
  },
  {
   "cell_type": "markdown",
   "metadata": {},
   "source": [
    "## RNN with Embeddings"
   ]
  },
  {
   "cell_type": "markdown",
   "metadata": {},
   "source": [
    "#### Using Max Pooling"
   ]
  },
  {
   "cell_type": "code",
   "execution_count": 43,
   "metadata": {},
   "outputs": [
    {
     "name": "stdout",
     "output_type": "stream",
     "text": [
      "Model: \"sequential_8\"\n",
      "_________________________________________________________________\n",
      "Layer (type)                 Output Shape              Param #   \n",
      "=================================================================\n",
      "embedding_10 (Embedding)     (None, None, 200)         6000000   \n",
      "_________________________________________________________________\n",
      "simple_rnn_8 (SimpleRNN)     (None, None, 50)          12550     \n",
      "_________________________________________________________________\n",
      "global_max_pooling1d_6 (Glob (None, 50)                0         \n",
      "_________________________________________________________________\n",
      "dense_13 (Dense)             (None, 10)                510       \n",
      "_________________________________________________________________\n",
      "dense_14 (Dense)             (None, 1)                 11        \n",
      "=================================================================\n",
      "Total params: 6,013,071\n",
      "Trainable params: 6,013,071\n",
      "Non-trainable params: 0\n",
      "_________________________________________________________________\n"
     ]
    }
   ],
   "source": [
    "model = tf.keras.Sequential([\n",
    "    tf.keras.layers.Embedding(max_features, embedding_size, weights=[embedding_matrix]),\n",
    "    tf.keras.layers.SimpleRNN(50, return_sequences=True,\n",
    "                             input_shape=(maxlen, embedding_size)),\n",
    "    tf.keras.layers.GlobalMaxPool1D(),\n",
    "    tf.keras.layers.Dense(10, activation='relu'),\n",
    "    tf.keras.layers.Dense(1, activation='sigmoid')\n",
    "])\n",
    "opt = keras.optimizers.Adam(learning_rate=0.0005)\n",
    "model.compile(loss='binary_crossentropy',optimizer=opt,metrics=['accuracy'])\n",
    "model.summary()"
   ]
  },
  {
   "cell_type": "code",
   "execution_count": 44,
   "metadata": {},
   "outputs": [
    {
     "name": "stdout",
     "output_type": "stream",
     "text": [
      "Epoch 1/5\n",
      "11988/11988 [==============================] - 550s 46ms/step - loss: 0.5142 - accuracy: 0.7362 - val_loss: 0.4894 - val_accuracy: 0.7540\n",
      "Epoch 2/5\n",
      "11988/11988 [==============================] - 619s 52ms/step - loss: 0.4609 - accuracy: 0.7731 - val_loss: 0.4747 - val_accuracy: 0.7642\n",
      "Epoch 3/5\n",
      "11988/11988 [==============================] - 562s 47ms/step - loss: 0.4352 - accuracy: 0.7892 - val_loss: 0.4787 - val_accuracy: 0.7627\n",
      "Epoch 4/5\n",
      "11988/11988 [==============================] - 549s 46ms/step - loss: 0.4124 - accuracy: 0.8030 - val_loss: 0.4810 - val_accuracy: 0.7633\n",
      "Epoch 5/5\n",
      "11988/11988 [==============================] - 552s 46ms/step - loss: 0.3909 - accuracy: 0.8161 - val_loss: 0.4880 - val_accuracy: 0.7623\n"
     ]
    }
   ],
   "source": [
    "batch_size = 100\n",
    "epochs = 5\n",
    "history = model.fit(X, \n",
    "                     y, \n",
    "                     batch_size=batch_size, \n",
    "                     epochs=epochs, \n",
    "                     validation_split=0.2)"
   ]
  },
  {
   "cell_type": "code",
   "execution_count": 70,
   "metadata": {},
   "outputs": [
    {
     "data": {
      "image/png": "[encoded data removed]",
      "text/plain": [
       "<Figure size 432x288 with 1 Axes>"
      ]
     },
     "metadata": {
      "needs_background": "light"
     },
     "output_type": "display_data"
    },
    {
     "data": {
      "image/png": "[encoded data removed]",
      "text/plain": [
       "<Figure size 432x288 with 1 Axes>"
      ]
     },
     "metadata": {
      "needs_background": "light"
     },
     "output_type": "display_data"
    }
   ],
   "source": [
    "import matplotlib.pyplot as plt\n",
    "\n",
    "\n",
    "def plot_graphs(history, string):\n",
    "  plt.plot(history.history[string])\n",
    "  plt.plot(history.history['val_'+string])\n",
    "  plt.xlabel(\"Epochs\")\n",
    "  plt.ylabel(string)\n",
    "  plt.legend([string, 'val_'+string])\n",
    "  plt.show()\n",
    "  \n",
    "plot_graphs(history, \"accuracy\")\n",
    "plot_graphs(history, \"loss\")"
   ]
  },
  {
   "cell_type": "code",
   "execution_count": 45,
   "metadata": {},
   "outputs": [],
   "source": [
    "def test(text, true_class, passage=True, check=True):\n",
    "    test_text = []\n",
    "    if passage: \n",
    "        for sentence in sent_tokenize(text):\n",
    "            test_text.append(sentence)\n",
    "    else:\n",
    "        test_text = [text]\n",
    "        \n",
    "    text_token = tokenizer.texts_to_sequences(test_text)\n",
    "    text_pad = pad_sequences(text_token, maxlen = maxlen)\n",
    "    pred_class = model.predict_classes(text_pad)\n",
    "    pred_score = model.predict(text_pad)\n",
    "    naive_loss = abs(true_class - pred_score)\n",
    "    \n",
    "    pol_class = 'right'\n",
    "    content = 'sentence'\n",
    "    success = 'succeeds'\n",
    " \n",
    "    pred_score_passage = np.sum(pred_score)/int(len(text_pad))\n",
    "    if passage:\n",
    "        pred_class = 1\n",
    "        if pred_score_passage < 0.5: pred_class, pol_class = 0, 'left'\n",
    "        bias = float(abs(0.5-pred_score_passage)/0.5*100)\n",
    "        content = 'passage'\n",
    "        if check: \n",
    "            if pred_class != true_class: success = 'fails'\n",
    "    else:\n",
    "        if pred_score < 0.5: pol_class = 'left'\n",
    "        bias = float(abs(0.5-pred_score)/0.5*100)\n",
    "        if check: \n",
    "            if pred_class != true_class: success = 'fails'\n",
    "    \n",
    "    print('===========================================================================')\n",
    "    print('Your answer:')\n",
    "    print('------------')\n",
    "    print(f'  - This {content} leans toward the {pol_class} in the political spectrum.')\n",
    "    print(f'  - It is approximately {bias: .2f}% percent biased to the {pol_class}.')\n",
    "    print(f'  - This model {success} in predicting the political bias.')\n",
    "    print('===========================================================================')\n",
    "    \n",
    "    return pred_class, pred_score, naive_loss"
   ]
  },
  {
   "cell_type": "markdown",
   "metadata": {},
   "source": [
    "### Test Case A: right-leaning sentences"
   ]
  },
  {
   "cell_type": "markdown",
   "metadata": {},
   "source": [
    "##### A1)."
   ]
  },
  {
   "cell_type": "code",
   "execution_count": 46,
   "metadata": {},
   "outputs": [],
   "source": [
    "fox_test1 = 'Top Republicans hit back at Pelosi for hypercharged language, calling GOP enemies of the state'"
   ]
  },
  {
   "cell_type": "code",
   "execution_count": 47,
   "metadata": {},
   "outputs": [
    {
     "data": {
      "text/plain": [
       "'Top Republicans hit back at Pelosi for hypercharged language, calling GOP enemies of the state'"
      ]
     },
     "execution_count": 47,
     "metadata": {},
     "output_type": "execute_result"
    }
   ],
   "source": [
    "fox_test1"
   ]
  },
  {
   "cell_type": "code",
   "execution_count": 48,
   "metadata": {},
   "outputs": [
    {
     "name": "stdout",
     "output_type": "stream",
     "text": [
      "WARNING:tensorflow:From <ipython-input-45-6e475a80cb8c>:11: Sequential.predict_classes (from tensorflow.python.keras.engine.sequential) is deprecated and will be removed after 2021-01-01.\n",
      "Instructions for updating:\n",
      "Please use instead:* `np.argmax(model.predict(x), axis=-1)`,   if your model does multi-class classification   (e.g. if it uses a `softmax` last-layer activation).* `(model.predict(x) > 0.5).astype(\"int32\")`,   if your model does binary classification   (e.g. if it uses a `sigmoid` last-layer activation).\n",
      "===========================================================================\n",
      "Your answer:\n",
      "------------\n",
      "  - This sentence leans toward the right in the political spectrum.\n",
      "  - It is approximately  1.01% percent biased to the right.\n",
      "  - This model succeeds in predicting the political bias.\n",
      "===========================================================================\n"
     ]
    },
    {
     "data": {
      "text/plain": [
       "(array([[1]], dtype=int32),\n",
       " array([[0.5050547]], dtype=float32),\n",
       " array([[0.4949453]], dtype=float32))"
      ]
     },
     "execution_count": 48,
     "metadata": {},
     "output_type": "execute_result"
    }
   ],
   "source": [
    "test(fox_test1, 1, passage=False)"
   ]
  },
  {
   "cell_type": "markdown",
   "metadata": {},
   "source": [
    "##### A2)."
   ]
  },
  {
   "cell_type": "code",
   "execution_count": 49,
   "metadata": {},
   "outputs": [],
   "source": [
    "fox_test2 = 'While the 2016 Republican convention was riddled with tension and protests over Donald Trump\"s rise at the GOP nominee, four years later the gathering is dissent free as the four-day confab serves as a celebration of Trump – and a testament to the president\"s complete takeover of the party.'"
   ]
  },
  {
   "cell_type": "code",
   "execution_count": 50,
   "metadata": {},
   "outputs": [
    {
     "data": {
      "text/plain": [
       "'While the 2016 Republican convention was riddled with tension and protests over Donald Trump\"s rise at the GOP nominee, four years later the gathering is dissent free as the four-day confab serves as a celebration of Trump – and a testament to the president\"s complete takeover of the party.'"
      ]
     },
     "execution_count": 50,
     "metadata": {},
     "output_type": "execute_result"
    }
   ],
   "source": [
    "fox_test2"
   ]
  },
  {
   "cell_type": "code",
   "execution_count": 51,
   "metadata": {},
   "outputs": [
    {
     "name": "stdout",
     "output_type": "stream",
     "text": [
      "===========================================================================\n",
      "Your answer:\n",
      "------------\n",
      "  - This sentence leans toward the left in the political spectrum.\n",
      "  - It is approximately  12.11% percent biased to the left.\n",
      "  - This model fails in predicting the political bias.\n",
      "===========================================================================\n"
     ]
    },
    {
     "data": {
      "text/plain": [
       "(array([[0]], dtype=int32),\n",
       " array([[0.43946669]], dtype=float32),\n",
       " array([[0.5605333]], dtype=float32))"
      ]
     },
     "execution_count": 51,
     "metadata": {},
     "output_type": "execute_result"
    }
   ],
   "source": [
    "test(fox_test2, 1, passage=False)"
   ]
  },
  {
   "cell_type": "markdown",
   "metadata": {},
   "source": [
    "### Test Case B: left-leaning sentences"
   ]
  },
  {
   "cell_type": "markdown",
   "metadata": {},
   "source": [
    "##### B1)."
   ]
  },
  {
   "cell_type": "code",
   "execution_count": 52,
   "metadata": {},
   "outputs": [],
   "source": [
    "cnn_test = 'House Republicans, while still strong in rural areas, are also at high risk for even further losses in the big metropolitan areas that keyed the Democratic surge in 2018.'"
   ]
  },
  {
   "cell_type": "code",
   "execution_count": 53,
   "metadata": {},
   "outputs": [
    {
     "data": {
      "text/plain": [
       "'House Republicans, while still strong in rural areas, are also at high risk for even further losses in the big metropolitan areas that keyed the Democratic surge in 2018.'"
      ]
     },
     "execution_count": 53,
     "metadata": {},
     "output_type": "execute_result"
    }
   ],
   "source": [
    "cnn_test"
   ]
  },
  {
   "cell_type": "code",
   "execution_count": 54,
   "metadata": {},
   "outputs": [
    {
     "name": "stdout",
     "output_type": "stream",
     "text": [
      "===========================================================================\n",
      "Your answer:\n",
      "------------\n",
      "  - This sentence leans toward the left in the political spectrum.\n",
      "  - It is approximately  38.80% percent biased to the left.\n",
      "  - This model succeeds in predicting the political bias.\n",
      "===========================================================================\n"
     ]
    },
    {
     "data": {
      "text/plain": [
       "(array([[0]], dtype=int32),\n",
       " array([[0.3060207]], dtype=float32),\n",
       " array([[0.3060207]], dtype=float32))"
      ]
     },
     "execution_count": 54,
     "metadata": {},
     "output_type": "execute_result"
    }
   ],
   "source": [
    "test(cnn_test, 0, passage=False)"
   ]
  },
  {
   "cell_type": "markdown",
   "metadata": {},
   "source": [
    "##### B2)."
   ]
  },
  {
   "cell_type": "code",
   "execution_count": 55,
   "metadata": {},
   "outputs": [],
   "source": [
    "cnn_test2 = 'Evidence is growing that in November, the GOP could be pushed back further into its strongholds and lose more ground in diverse, growing metropolitan America, even if Trump finds a way to overcome his persistent deficits in national polls to Democratic nominee Joe Biden.'"
   ]
  },
  {
   "cell_type": "code",
   "execution_count": 56,
   "metadata": {},
   "outputs": [
    {
     "data": {
      "text/plain": [
       "'Evidence is growing that in November, the GOP could be pushed back further into its strongholds and lose more ground in diverse, growing metropolitan America, even if Trump finds a way to overcome his persistent deficits in national polls to Democratic nominee Joe Biden.'"
      ]
     },
     "execution_count": 56,
     "metadata": {},
     "output_type": "execute_result"
    }
   ],
   "source": [
    "cnn_test2"
   ]
  },
  {
   "cell_type": "code",
   "execution_count": 57,
   "metadata": {},
   "outputs": [
    {
     "name": "stdout",
     "output_type": "stream",
     "text": [
      "===========================================================================\n",
      "Your answer:\n",
      "------------\n",
      "  - This sentence leans toward the left in the political spectrum.\n",
      "  - It is approximately  51.16% percent biased to the left.\n",
      "  - This model succeeds in predicting the political bias.\n",
      "===========================================================================\n"
     ]
    },
    {
     "data": {
      "text/plain": [
       "(array([[0]], dtype=int32),\n",
       " array([[0.2441858]], dtype=float32),\n",
       " array([[0.2441858]], dtype=float32))"
      ]
     },
     "execution_count": 57,
     "metadata": {},
     "output_type": "execute_result"
    }
   ],
   "source": [
    "test(cnn_test2, 0, passage=False)"
   ]
  },
  {
   "cell_type": "markdown",
   "metadata": {},
   "source": [
    "### Test Case C: right-leaning passages"
   ]
  },
  {
   "cell_type": "markdown",
   "metadata": {},
   "source": [
    "##### C1)."
   ]
  },
  {
   "cell_type": "code",
   "execution_count": 58,
   "metadata": {},
   "outputs": [],
   "source": [
    "fox_test_passage = 'The Journal article, which cites the International Monetary Fund, states that the pandemic and the resulting economic shutdowns have led to the expectation that global output will fall 5% this year, which is “far worse than during the [2008] financial crisis. It has also led to 400 million jobs lost worldwide, according to the International Labor Organization, with 13 million job losses in the U.S. alone.'"
   ]
  },
  {
   "cell_type": "code",
   "execution_count": 59,
   "metadata": {},
   "outputs": [
    {
     "data": {
      "text/plain": [
       "'The Journal article, which cites the International Monetary Fund, states that the pandemic and the resulting economic shutdowns have led to the expectation that global output will fall 5% this year, which is “far worse than during the [2008] financial crisis. It has also led to 400 million jobs lost worldwide, according to the International Labor Organization, with 13 million job losses in the U.S. alone.'"
      ]
     },
     "execution_count": 59,
     "metadata": {},
     "output_type": "execute_result"
    }
   ],
   "source": [
    "fox_test_passage"
   ]
  },
  {
   "cell_type": "code",
   "execution_count": 60,
   "metadata": {},
   "outputs": [
    {
     "name": "stdout",
     "output_type": "stream",
     "text": [
      "===========================================================================\n",
      "Your answer:\n",
      "------------\n",
      "  - This passage leans toward the right in the political spectrum.\n",
      "  - It is approximately  30.80% percent biased to the right.\n",
      "  - This model succeeds in predicting the political bias.\n",
      "===========================================================================\n"
     ]
    },
    {
     "data": {
      "text/plain": [
       "(1,\n",
       " array([[0.5494768],\n",
       "        [0.7585455]], dtype=float32),\n",
       " array([[0.4505232 ],\n",
       "        [0.24145448]], dtype=float32))"
      ]
     },
     "execution_count": 60,
     "metadata": {},
     "output_type": "execute_result"
    }
   ],
   "source": [
    "test(fox_test_passage, 1, passage=True)"
   ]
  },
  {
   "cell_type": "markdown",
   "metadata": {},
   "source": [
    "##### C2)."
   ]
  },
  {
   "cell_type": "code",
   "execution_count": 61,
   "metadata": {},
   "outputs": [],
   "source": [
    "fox_test_passage2 = 'On Tuesday, Israeli Defense Minister Benny Gantz had his first official talk with his UAE counterpart. The two discussed security cooperation between their countries and other regional issues. This, after Pompeo met Monday with Israeli Prime Minister Benjamin Netanyahu in Jerusalem and in a statement afterward slammed others for not supporting more pressure on Iranian leadership in Tehran. But to the backdrop of the election year, America’s top diplomat has been pressing hard to mend regional ties for Israel while isolating Iran. He was at the United Nations last week where he triggered a sanctions snapback on Iran for violations of the 2015 nuclear deal and continued provocative action in the Middle East.'"
   ]
  },
  {
   "cell_type": "code",
   "execution_count": 62,
   "metadata": {},
   "outputs": [
    {
     "data": {
      "text/plain": [
       "'On Tuesday, Israeli Defense Minister Benny Gantz had his first official talk with his UAE counterpart. The two discussed security cooperation between their countries and other regional issues. This, after Pompeo met Monday with Israeli Prime Minister Benjamin Netanyahu in Jerusalem and in a statement afterward slammed others for not supporting more pressure on Iranian leadership in Tehran. But to the backdrop of the election year, America’s top diplomat has been pressing hard to mend regional ties for Israel while isolating Iran. He was at the United Nations last week where he triggered a sanctions snapback on Iran for violations of the 2015 nuclear deal and continued provocative action in the Middle East.'"
      ]
     },
     "execution_count": 62,
     "metadata": {},
     "output_type": "execute_result"
    }
   ],
   "source": [
    "fox_test_passage2"
   ]
  },
  {
   "cell_type": "code",
   "execution_count": 63,
   "metadata": {},
   "outputs": [
    {
     "name": "stdout",
     "output_type": "stream",
     "text": [
      "===========================================================================\n",
      "Your answer:\n",
      "------------\n",
      "  - This passage leans toward the left in the political spectrum.\n",
      "  - It is approximately  30.25% percent biased to the left.\n",
      "  - This model fails in predicting the political bias.\n",
      "===========================================================================\n"
     ]
    },
    {
     "data": {
      "text/plain": [
       "(0,\n",
       " array([[0.07450101],\n",
       "        [0.39155704],\n",
       "        [0.43833497],\n",
       "        [0.5764235 ],\n",
       "        [0.26302713]], dtype=float32),\n",
       " array([[0.92549896],\n",
       "        [0.60844296],\n",
       "        [0.56166506],\n",
       "        [0.42357647],\n",
       "        [0.73697287]], dtype=float32))"
      ]
     },
     "execution_count": 63,
     "metadata": {},
     "output_type": "execute_result"
    }
   ],
   "source": [
    "test(fox_test_passage2, 1, passage=True)"
   ]
  },
  {
   "cell_type": "markdown",
   "metadata": {},
   "source": [
    "### Test Case D: left-leaning passages"
   ]
  },
  {
   "cell_type": "markdown",
   "metadata": {},
   "source": [
    "##### D1)."
   ]
  },
  {
   "cell_type": "code",
   "execution_count": 64,
   "metadata": {},
   "outputs": [],
   "source": [
    "cnn_test_passage = 'Compared with the 2016 GOP convention, which rippled with unresolved tension and resistance to Trump rise, the conspicuous absence of dissent at this years event underscores how the President has stamped the party with his trademark as surely as if it were one of his downtown skyscrapers. The party choice to skip passing a platform and instead approve a brief statement declaring it will enthusiastically support the Presidents America-first agenda testifies to his triumph.'           "
   ]
  },
  {
   "cell_type": "code",
   "execution_count": 65,
   "metadata": {},
   "outputs": [
    {
     "data": {
      "text/plain": [
       "'Compared with the 2016 GOP convention, which rippled with unresolved tension and resistance to Trump rise, the conspicuous absence of dissent at this years event underscores how the President has stamped the party with his trademark as surely as if it were one of his downtown skyscrapers. The party choice to skip passing a platform and instead approve a brief statement declaring it will enthusiastically support the Presidents America-first agenda testifies to his triumph.'"
      ]
     },
     "execution_count": 65,
     "metadata": {},
     "output_type": "execute_result"
    }
   ],
   "source": [
    "cnn_test_passage"
   ]
  },
  {
   "cell_type": "code",
   "execution_count": 66,
   "metadata": {},
   "outputs": [
    {
     "name": "stdout",
     "output_type": "stream",
     "text": [
      "===========================================================================\n",
      "Your answer:\n",
      "------------\n",
      "  - This passage leans toward the left in the political spectrum.\n",
      "  - It is approximately  70.60% percent biased to the left.\n",
      "  - This model succeeds in predicting the political bias.\n",
      "===========================================================================\n"
     ]
    },
    {
     "data": {
      "text/plain": [
       "(0,\n",
       " array([[0.05659279],\n",
       "        [0.23742053]], dtype=float32),\n",
       " array([[0.05659279],\n",
       "        [0.23742053]], dtype=float32))"
      ]
     },
     "execution_count": 66,
     "metadata": {},
     "output_type": "execute_result"
    }
   ],
   "source": [
    "test(cnn_test_passage, 0, passage=True)"
   ]
  },
  {
   "cell_type": "markdown",
   "metadata": {},
   "source": [
    "##### D2)."
   ]
  },
  {
   "cell_type": "code",
   "execution_count": 67,
   "metadata": {},
   "outputs": [],
   "source": [
    "cnn_test_passage2 = 'In 2016, Trump won very few of the states with the most immigrants, the most college graduates or the fewest White Christians, and polls show he could lose several of the small number he did carry in each category. House Republicans, while still strong in rural areas, are also at high risk for even further losses in the big metropolitan areas that keyed the Democratic surge in 2018. That same demographic and geographic realignment threatens embattled GOP senators in Arizona, Colorado, North Carolina, Maine and potentially Iowa, Georgia and conceivably even Texas. The conundrum facing the GOP will be visible in the passionate support for the President on display this week. As the previously Republican-leaning voters who can\"t abide Trump\"s definition drift away from the party a dynamic that Democrats highlighted last week by featuring so many prominent Republicans at their own convention -- what\"s left are those most bonded to Trump\"s polarizing approach. That will make it difficult to build a coalition for changing direction if Trump loses this fall, even if he takes down the GOP Senate majority with him.'"
   ]
  },
  {
   "cell_type": "code",
   "execution_count": 68,
   "metadata": {},
   "outputs": [
    {
     "data": {
      "text/plain": [
       "'In 2016, Trump won very few of the states with the most immigrants, the most college graduates or the fewest White Christians, and polls show he could lose several of the small number he did carry in each category. House Republicans, while still strong in rural areas, are also at high risk for even further losses in the big metropolitan areas that keyed the Democratic surge in 2018. That same demographic and geographic realignment threatens embattled GOP senators in Arizona, Colorado, North Carolina, Maine and potentially Iowa, Georgia and conceivably even Texas. The conundrum facing the GOP will be visible in the passionate support for the President on display this week. As the previously Republican-leaning voters who can\"t abide Trump\"s definition drift away from the party a dynamic that Democrats highlighted last week by featuring so many prominent Republicans at their own convention -- what\"s left are those most bonded to Trump\"s polarizing approach. That will make it difficult to build a coalition for changing direction if Trump loses this fall, even if he takes down the GOP Senate majority with him.'"
      ]
     },
     "execution_count": 68,
     "metadata": {},
     "output_type": "execute_result"
    }
   ],
   "source": [
    "cnn_test_passage2"
   ]
  },
  {
   "cell_type": "code",
   "execution_count": 69,
   "metadata": {},
   "outputs": [
    {
     "name": "stdout",
     "output_type": "stream",
     "text": [
      "===========================================================================\n",
      "Your answer:\n",
      "------------\n",
      "  - This passage leans toward the left in the political spectrum.\n",
      "  - It is approximately  19.69% percent biased to the left.\n",
      "  - This model succeeds in predicting the political bias.\n",
      "===========================================================================\n"
     ]
    },
    {
     "data": {
      "text/plain": [
       "(0,\n",
       " array([[0.7284051 ],\n",
       "        [0.3060205 ],\n",
       "        [0.6017004 ],\n",
       "        [0.16551304],\n",
       "        [0.22309595],\n",
       "        [0.38441935]], dtype=float32),\n",
       " array([[0.7284051 ],\n",
       "        [0.3060205 ],\n",
       "        [0.6017004 ],\n",
       "        [0.16551304],\n",
       "        [0.22309595],\n",
       "        [0.38441935]], dtype=float32))"
      ]
     },
     "execution_count": 69,
     "metadata": {},
     "output_type": "execute_result"
    }
   ],
   "source": [
    "test(cnn_test_passage2, 0, passage=True)"
   ]
  },
  {
   "cell_type": "code",
   "execution_count": null,
   "metadata": {},
   "outputs": [],
   "source": []
  }
 ],
 "metadata": {
  "kernelspec": {
   "display_name": "Python 3",
   "language": "python",
   "name": "python3"
  },
  "language_info": {
   "codemirror_mode": {
    "name": "ipython",
    "version": 3
   },
   "file_extension": ".py",
   "mimetype": "text/x-python",
   "name": "python",
   "nbconvert_exporter": "python",
   "pygments_lexer": "ipython3",
   "version": "3.7.7"
  }
 },
 "nbformat": 4,
 "nbformat_minor": 4
}
