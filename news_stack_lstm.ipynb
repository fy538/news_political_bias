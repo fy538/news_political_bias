{
 "cells": [
  {
   "cell_type": "markdown",
   "metadata": {},
   "source": [
    "# Political Bias Classification with Bi-Directional LSTM Model"
   ]
  },
  {
   "cell_type": "markdown",
   "metadata": {},
   "source": [
    "##### Importing Libraries and Loading data"
   ]
  },
  {
   "cell_type": "code",
   "execution_count": 1,
   "metadata": {
    "scrolled": true
   },
   "outputs": [
    {
     "name": "stderr",
     "output_type": "stream",
     "text": [
      "/Users/feihuyan/anaconda3/lib/python3.7/site-packages/ipykernel_launcher.py:4: FutureWarning: Passing a negative integer is deprecated in version 1.0 and will not be supported in future version. Instead, use None to not limit the column width.\n",
      "  after removing the cwd from sys.path.\n"
     ]
    }
   ],
   "source": [
    "import pandas as pd\n",
    "import numpy as np\n",
    "from tqdm import tqdm\n",
    "pd.set_option('display.max_colwidth', -1)"
   ]
  },
  {
   "cell_type": "code",
   "execution_count": 2,
   "metadata": {},
   "outputs": [],
   "source": [
    "df1 = pd.read_csv('/Users/feihuyan/Downloads/news/articles1.csv')\n",
    "df2 = pd.read_csv('/Users/feihuyan/Downloads/news/articles2.csv')\n",
    "df3 = pd.read_csv('/Users/feihuyan/Downloads/news/articles3.csv')"
   ]
  },
  {
   "cell_type": "code",
   "execution_count": 3,
   "metadata": {},
   "outputs": [],
   "source": [
    "df = pd.concat([df1, df2, df3])"
   ]
  },
  {
   "cell_type": "code",
   "execution_count": 4,
   "metadata": {},
   "outputs": [
    {
     "data": {
      "text/plain": [
       "{'Atlantic',\n",
       " 'Breitbart',\n",
       " 'Business Insider',\n",
       " 'Buzzfeed News',\n",
       " 'CNN',\n",
       " 'Fox News',\n",
       " 'Guardian',\n",
       " 'NPR',\n",
       " 'National Review',\n",
       " 'New York Post',\n",
       " 'New York Times',\n",
       " 'Reuters',\n",
       " 'Talking Points Memo',\n",
       " 'Vox',\n",
       " 'Washington Post'}"
      ]
     },
     "execution_count": 4,
     "metadata": {},
     "output_type": "execute_result"
    }
   ],
   "source": [
    "set(df['publication'])"
   ]
  },
  {
   "cell_type": "code",
   "execution_count": 8,
   "metadata": {},
   "outputs": [],
   "source": [
    "bias = { 'Atlantic': 2,\n",
    "         'Breitbart': 1,\n",
    "         'Business Insider': 2,\n",
    "         'Buzzfeed News': 2,\n",
    "         'CNN': 0,\n",
    "         'Fox News': 1,\n",
    "         'Guardian': 2,\n",
    "         'NPR': 2,\n",
    "         'National Review': 2,\n",
    "         'New York Post': 2,\n",
    "         'New York Times': 0,\n",
    "         'Reuters': 2,\n",
    "         'Talking Points Memo': 2,\n",
    "         'Vox': 2,\n",
    "         'Washington Post': 2}\n",
    "df['bias'] = df['publication'].map(bias)"
   ]
  },
  {
   "cell_type": "code",
   "execution_count": 6,
   "metadata": {},
   "outputs": [],
   "source": [
    "bias = { 'Atlantic': 0,\n",
    "         'Breitbart': 1,\n",
    "         'Business Insider': 0,\n",
    "         'Buzzfeed News': 0,\n",
    "         'CNN': 0,\n",
    "         'Fox News': 1,\n",
    "         'Guardian': 0,\n",
    "         'NPR': 0,\n",
    "         'National Review': 1,\n",
    "         'New York Post': 1,\n",
    "         'New York Times': 0,\n",
    "         'Reuters': 2,\n",
    "         'Talking Points Memo': 0,\n",
    "         'Vox': 0,\n",
    "         'Washington Post': 0}\n",
    "df['bias'] = df['publication'].map(bias)"
   ]
  },
  {
   "cell_type": "code",
   "execution_count": 9,
   "metadata": {},
   "outputs": [],
   "source": [
    "left = df[df['bias'] == 0]\n",
    "right = df[df['bias'] == 1]"
   ]
  },
  {
   "cell_type": "markdown",
   "metadata": {},
   "source": [
    "### Passage to Sentence "
   ]
  },
  {
   "cell_type": "code",
   "execution_count": 10,
   "metadata": {},
   "outputs": [],
   "source": [
    "from nltk.tokenize import sent_tokenize"
   ]
  },
  {
   "cell_type": "code",
   "execution_count": 11,
   "metadata": {},
   "outputs": [],
   "source": [
    "def passage_to_sentences(df, political_affiliation):\n",
    "    l = []\n",
    "    for row in tqdm(df):\n",
    "        for sentence in sent_tokenize(row):\n",
    "            l.append(sentence)\n",
    "    result = pd.DataFrame({'text': l, 'target': political_affiliation})\n",
    "    return result"
   ]
  },
  {
   "cell_type": "code",
   "execution_count": 12,
   "metadata": {},
   "outputs": [
    {
     "name": "stderr",
     "output_type": "stream",
     "text": [
      "100%|██████████| 19291/19291 [00:29<00:00, 652.70it/s] \n"
     ]
    }
   ],
   "source": [
    "left_sent = passage_to_sentences(left['content'], 0)"
   ]
  },
  {
   "cell_type": "code",
   "execution_count": 13,
   "metadata": {
    "scrolled": true
   },
   "outputs": [
    {
     "name": "stderr",
     "output_type": "stream",
     "text": [
      "100%|██████████| 28135/28135 [00:23<00:00, 1221.40it/s]\n"
     ]
    }
   ],
   "source": [
    "right_sent = passage_to_sentences(right['content'], 1)"
   ]
  },
  {
   "cell_type": "code",
   "execution_count": 14,
   "metadata": {},
   "outputs": [
    {
     "data": {
      "text/html": [
       "<div>\n",
       "<style scoped>\n",
       "    .dataframe tbody tr th:only-of-type {\n",
       "        vertical-align: middle;\n",
       "    }\n",
       "\n",
       "    .dataframe tbody tr th {\n",
       "        vertical-align: top;\n",
       "    }\n",
       "\n",
       "    .dataframe thead th {\n",
       "        text-align: right;\n",
       "    }\n",
       "</style>\n",
       "<table border=\"1\" class=\"dataframe\">\n",
       "  <thead>\n",
       "    <tr style=\"text-align: right;\">\n",
       "      <th></th>\n",
       "      <th>text</th>\n",
       "      <th>target</th>\n",
       "    </tr>\n",
       "  </thead>\n",
       "  <tbody>\n",
       "    <tr>\n",
       "      <th>0</th>\n",
       "      <td>WASHINGTON  —   Congressional Republicans have a new fear when it comes to their    health care lawsuit against the Obama administration: They might win.</td>\n",
       "      <td>0</td>\n",
       "    </tr>\n",
       "    <tr>\n",
       "      <th>1</th>\n",
       "      <td>The incoming Trump administration could choose to no longer defend the executive branch against the suit, which challenges the administration’s authority to spend billions of dollars on health insurance subsidies for   and   Americans, handing House Republicans a big victory on    issues.</td>\n",
       "      <td>0</td>\n",
       "    </tr>\n",
       "    <tr>\n",
       "      <th>2</th>\n",
       "      <td>But a sudden loss of the disputed subsidies could conceivably cause the health care program to implode, leaving millions of people without access to health insurance before Republicans have prepared a replacement.</td>\n",
       "      <td>0</td>\n",
       "    </tr>\n",
       "    <tr>\n",
       "      <th>3</th>\n",
       "      <td>That could lead to chaos in the insurance market and spur a political backlash just as Republicans gain full control of the government.</td>\n",
       "      <td>0</td>\n",
       "    </tr>\n",
       "    <tr>\n",
       "      <th>4</th>\n",
       "      <td>To stave off that outcome, Republicans could find themselves in the awkward position of appropriating huge sums to temporarily prop up the Obama health care law, angering conservative voters who have been demanding an end to the law for years.</td>\n",
       "      <td>0</td>\n",
       "    </tr>\n",
       "  </tbody>\n",
       "</table>\n",
       "</div>"
      ],
      "text/plain": [
       "                                                                                                                                                                                                                                                                                                text  \\\n",
       "0  WASHINGTON  —   Congressional Republicans have a new fear when it comes to their    health care lawsuit against the Obama administration: They might win.                                                                                                                                           \n",
       "1  The incoming Trump administration could choose to no longer defend the executive branch against the suit, which challenges the administration’s authority to spend billions of dollars on health insurance subsidies for   and   Americans, handing House Republicans a big victory on    issues.   \n",
       "2  But a sudden loss of the disputed subsidies could conceivably cause the health care program to implode, leaving millions of people without access to health insurance before Republicans have prepared a replacement.                                                                               \n",
       "3  That could lead to chaos in the insurance market and spur a political backlash just as Republicans gain full control of the government.                                                                                                                                                             \n",
       "4  To stave off that outcome, Republicans could find themselves in the awkward position of appropriating huge sums to temporarily prop up the Obama health care law, angering conservative voters who have been demanding an end to the law for years.                                                 \n",
       "\n",
       "   target  \n",
       "0  0       \n",
       "1  0       \n",
       "2  0       \n",
       "3  0       \n",
       "4  0       "
      ]
     },
     "execution_count": 14,
     "metadata": {},
     "output_type": "execute_result"
    }
   ],
   "source": [
    "left_sent.head(5)"
   ]
  },
  {
   "cell_type": "code",
   "execution_count": 15,
   "metadata": {},
   "outputs": [
    {
     "data": {
      "text/html": [
       "<div>\n",
       "<style scoped>\n",
       "    .dataframe tbody tr th:only-of-type {\n",
       "        vertical-align: middle;\n",
       "    }\n",
       "\n",
       "    .dataframe tbody tr th {\n",
       "        vertical-align: top;\n",
       "    }\n",
       "\n",
       "    .dataframe thead th {\n",
       "        text-align: right;\n",
       "    }\n",
       "</style>\n",
       "<table border=\"1\" class=\"dataframe\">\n",
       "  <thead>\n",
       "    <tr style=\"text-align: right;\">\n",
       "      <th></th>\n",
       "      <th>text</th>\n",
       "      <th>target</th>\n",
       "    </tr>\n",
       "  </thead>\n",
       "  <tbody>\n",
       "    <tr>\n",
       "      <th>0</th>\n",
       "      <td>On Tuesday’s broadcast of CNN’s “Situation Room,” CNN Senior Washington Correspondent Jeff Zeleny stated that Chelsea Manning’s transition from a man to a woman “certainly played into” President Obama’s decision to commute Manning’s sentence, and “Without that, it’s hard to imagine, I think, this president would have done that.</td>\n",
       "      <td>1</td>\n",
       "    </tr>\n",
       "    <tr>\n",
       "      <th>1</th>\n",
       "      <td>”  Zeleny said, “I think a question that this president the White House will have to answer here  —   will answer, and I think it’s an important one, if  —   how much was the personal story of Chelsea Manning involved in this, because the outcry from the left was so strong on this.</td>\n",
       "      <td>1</td>\n",
       "    </tr>\n",
       "    <tr>\n",
       "      <th>2</th>\n",
       "      <td>And she’s having a difficult time in federal prison, no question.</td>\n",
       "      <td>1</td>\n",
       "    </tr>\n",
       "    <tr>\n",
       "      <th>3</th>\n",
       "      <td>But, to me, that is a central question here.</td>\n",
       "      <td>1</td>\n",
       "    </tr>\n",
       "    <tr>\n",
       "      <th>4</th>\n",
       "      <td>Without that, you have to wonder if the outcome would be the same.</td>\n",
       "      <td>1</td>\n",
       "    </tr>\n",
       "  </tbody>\n",
       "</table>\n",
       "</div>"
      ],
      "text/plain": [
       "                                                                                                                                                                                                                                                                                                                                        text  \\\n",
       "0  On Tuesday’s broadcast of CNN’s “Situation Room,” CNN Senior Washington Correspondent Jeff Zeleny stated that Chelsea Manning’s transition from a man to a woman “certainly played into” President Obama’s decision to commute Manning’s sentence, and “Without that, it’s hard to imagine, I think, this president would have done that.   \n",
       "1  ”  Zeleny said, “I think a question that this president the White House will have to answer here  —   will answer, and I think it’s an important one, if  —   how much was the personal story of Chelsea Manning involved in this, because the outcry from the left was so strong on this.                                                  \n",
       "2  And she’s having a difficult time in federal prison, no question.                                                                                                                                                                                                                                                                           \n",
       "3  But, to me, that is a central question here.                                                                                                                                                                                                                                                                                                \n",
       "4  Without that, you have to wonder if the outcome would be the same.                                                                                                                                                                                                                                                                          \n",
       "\n",
       "   target  \n",
       "0  1       \n",
       "1  1       \n",
       "2  1       \n",
       "3  1       \n",
       "4  1       "
      ]
     },
     "execution_count": 15,
     "metadata": {},
     "output_type": "execute_result"
    }
   ],
   "source": [
    "right_sent.head(5)"
   ]
  },
  {
   "cell_type": "code",
   "execution_count": 16,
   "metadata": {},
   "outputs": [
    {
     "data": {
      "text/html": [
       "<div>\n",
       "<style scoped>\n",
       "    .dataframe tbody tr th:only-of-type {\n",
       "        vertical-align: middle;\n",
       "    }\n",
       "\n",
       "    .dataframe tbody tr th {\n",
       "        vertical-align: top;\n",
       "    }\n",
       "\n",
       "    .dataframe thead th {\n",
       "        text-align: right;\n",
       "    }\n",
       "</style>\n",
       "<table border=\"1\" class=\"dataframe\">\n",
       "  <thead>\n",
       "    <tr style=\"text-align: right;\">\n",
       "      <th></th>\n",
       "      <th>text</th>\n",
       "      <th>target</th>\n",
       "    </tr>\n",
       "  </thead>\n",
       "  <tbody>\n",
       "    <tr>\n",
       "      <th>256509</th>\n",
       "      <td>Apparently, the ugly attacks Rubio launched against Trump either did not work or ran their course.</td>\n",
       "      <td>1</td>\n",
       "    </tr>\n",
       "    <tr>\n",
       "      <th>146733</th>\n",
       "      <td>And it’s tricky to do.</td>\n",
       "      <td>0</td>\n",
       "    </tr>\n",
       "    <tr>\n",
       "      <th>258377</th>\n",
       "      <td>And I think given what she’s had to do in her competition with Bernie Sanders just to get the Democratic Party nomination  —   some say she’s moved to the Left.</td>\n",
       "      <td>1</td>\n",
       "    </tr>\n",
       "    <tr>\n",
       "      <th>262259</th>\n",
       "      <td>” But Intelligence Community Inspector General I. Charles McCollough, now under attack by Team Clinton, confirmed, “IC classification officials reviewed two additional emails and judged that they contained classified State Department information when originated.</td>\n",
       "      <td>1</td>\n",
       "    </tr>\n",
       "    <tr>\n",
       "      <th>211982</th>\n",
       "      <td>[The security breach, in which hackers gained access to dozens of computers including the workstation for former FDIC Chairwoman Sheila Bair, has also been the target of a probe by a congressional committee.</td>\n",
       "      <td>1</td>\n",
       "    </tr>\n",
       "  </tbody>\n",
       "</table>\n",
       "</div>"
      ],
      "text/plain": [
       "                                                                                                                                                                                                                                                                          text  \\\n",
       "256509  Apparently, the ugly attacks Rubio launched against Trump either did not work or ran their course.                                                                                                                                                                       \n",
       "146733  And it’s tricky to do.                                                                                                                                                                                                                                                   \n",
       "258377  And I think given what she’s had to do in her competition with Bernie Sanders just to get the Democratic Party nomination  —   some say she’s moved to the Left.                                                                                                         \n",
       "262259  ” But Intelligence Community Inspector General I. Charles McCollough, now under attack by Team Clinton, confirmed, “IC classification officials reviewed two additional emails and judged that they contained classified State Department information when originated.   \n",
       "211982  [The security breach, in which hackers gained access to dozens of computers including the workstation for former FDIC Chairwoman Sheila Bair, has also been the target of a probe by a congressional committee.                                                          \n",
       "\n",
       "        target  \n",
       "256509  1       \n",
       "146733  0       \n",
       "258377  1       \n",
       "262259  1       \n",
       "211982  1       "
      ]
     },
     "execution_count": 16,
     "metadata": {},
     "output_type": "execute_result"
    }
   ],
   "source": [
    "train_df = pd.concat([left_sent, right_sent])\n",
    "train_df = train_df.sample(frac=1)\n",
    "train_df.head(5)"
   ]
  },
  {
   "cell_type": "markdown",
   "metadata": {},
   "source": [
    "### Setting Up Embedding Matrix"
   ]
  },
  {
   "cell_type": "code",
   "execution_count": 17,
   "metadata": {},
   "outputs": [
    {
     "name": "stderr",
     "output_type": "stream",
     "text": [
      "Using TensorFlow backend.\n"
     ]
    }
   ],
   "source": [
    "from keras.preprocessing.text import Tokenizer\n",
    "from keras.preprocessing.sequence import pad_sequences"
   ]
  },
  {
   "cell_type": "code",
   "execution_count": 18,
   "metadata": {},
   "outputs": [],
   "source": [
    "max_features = 30000\n",
    "maxlen = 25\n",
    "\n",
    "tokenizer = Tokenizer(num_words=max_features)\n",
    "tokenizer.fit_on_texts(list(train_df['text']))\n",
    "X = tokenizer.texts_to_sequences(list(train_df['text']))\n",
    "X = pad_sequences(X, maxlen = maxlen)\n",
    "y = train_df['target']"
   ]
  },
  {
   "cell_type": "code",
   "execution_count": 19,
   "metadata": {},
   "outputs": [
    {
     "name": "stderr",
     "output_type": "stream",
     "text": [
      "1193514it [00:52, 22904.03it/s]\n"
     ]
    }
   ],
   "source": [
    "embedding_size = 200\n",
    "embedding_file = '/Users/feihuyan/Downloads/glove.twitter.27B.200d.txt'\n",
    "embedding_index = {}\n",
    "file = open(embedding_file)\n",
    "for line in tqdm(file):\n",
    "    values = line.split()\n",
    "    word = values[0]\n",
    "    coefs = np.asarray(values[1:], dtype='float32')\n",
    "    embedding_index[word] = coefs"
   ]
  },
  {
   "cell_type": "code",
   "execution_count": 20,
   "metadata": {},
   "outputs": [],
   "source": [
    "word_index = tokenizer.word_index\n",
    "nb_words = min(max_features, len(word_index))\n",
    "\n",
    "embedding_matrix = np.zeros((nb_words, embedding_size))\n",
    "for word, i in tokenizer.word_index.items():\n",
    "    if i >= max_features: continue\n",
    "    embedding_vector = embedding_index.get(word)\n",
    "    if embedding_vector is not None:\n",
    "        embedding_matrix[i] = embedding_vector"
   ]
  },
  {
   "cell_type": "code",
   "execution_count": 21,
   "metadata": {},
   "outputs": [
    {
     "name": "stdout",
     "output_type": "stream",
     "text": [
      "(1498398, 25)\n",
      "(1498398,)\n"
     ]
    }
   ],
   "source": [
    "print(X.shape)\n",
    "print(y.shape)"
   ]
  },
  {
   "cell_type": "code",
   "execution_count": 22,
   "metadata": {},
   "outputs": [
    {
     "data": {
      "text/plain": [
       "(30000, 200)"
      ]
     },
     "execution_count": 22,
     "metadata": {},
     "output_type": "execute_result"
    }
   ],
   "source": [
    "embedding_matrix.shape"
   ]
  },
  {
   "cell_type": "code",
   "execution_count": 23,
   "metadata": {},
   "outputs": [],
   "source": [
    "import tensorflow as tf\n",
    "from tensorflow import keras\n",
    "from keras.models import Sequential\n",
    "from keras.layers import Dense, Input, CuDNNLSTM, Embedding, Dropout, Activation, Flatten, Bidirectional, GlobalMaxPool1D, SimpleRNN\n",
    "from keras.optimizers import adam"
   ]
  },
  {
   "cell_type": "markdown",
   "metadata": {},
   "source": [
    "## Stacking Bi-Directional LSTM with Embeddings"
   ]
  },
  {
   "cell_type": "markdown",
   "metadata": {},
   "source": [
    "#### Using Max Pooling"
   ]
  },
  {
   "cell_type": "code",
   "execution_count": 24,
   "metadata": {},
   "outputs": [
    {
     "name": "stdout",
     "output_type": "stream",
     "text": [
      "Model: \"sequential\"\n",
      "_________________________________________________________________\n",
      "Layer (type)                 Output Shape              Param #   \n",
      "=================================================================\n",
      "embedding (Embedding)        (None, None, 200)         6000000   \n",
      "_________________________________________________________________\n",
      "bidirectional (Bidirectional (None, None, 512)         935936    \n",
      "_________________________________________________________________\n",
      "bidirectional_1 (Bidirection (None, None, 256)         656384    \n",
      "_________________________________________________________________\n",
      "bidirectional_2 (Bidirection (None, None, 128)         164352    \n",
      "_________________________________________________________________\n",
      "global_max_pooling1d (Global (None, 128)               0         \n",
      "_________________________________________________________________\n",
      "dense (Dense)                (None, 40)                5160      \n",
      "_________________________________________________________________\n",
      "dropout (Dropout)            (None, 40)                0         \n",
      "_________________________________________________________________\n",
      "dense_1 (Dense)              (None, 20)                820       \n",
      "_________________________________________________________________\n",
      "dropout_1 (Dropout)          (None, 20)                0         \n",
      "_________________________________________________________________\n",
      "dense_2 (Dense)              (None, 1)                 21        \n",
      "=================================================================\n",
      "Total params: 7,762,673\n",
      "Trainable params: 7,762,673\n",
      "Non-trainable params: 0\n",
      "_________________________________________________________________\n"
     ]
    }
   ],
   "source": [
    "model = tf.keras.Sequential([\n",
    "    tf.keras.layers.Embedding(max_features, embedding_size, weights=[embedding_matrix]),\n",
    "    tf.keras.layers.Bidirectional(tf.keras.layers.LSTM(256,\n",
    "                                                      recurrent_dropout=0.5,\n",
    "                                                      return_sequences=True)),\n",
    "    tf.keras.layers.Bidirectional(tf.keras.layers.LSTM(128,\n",
    "                                                      recurrent_dropout=0.5,\n",
    "                                                      return_sequences=True)),\n",
    "    tf.keras.layers.Bidirectional(tf.keras.layers.LSTM(64,\n",
    "                                                      recurrent_dropout=0.5,\n",
    "                                                      return_sequences=True)),\n",
    "    tf.keras.layers.GlobalMaxPool1D(),\n",
    "    tf.keras.layers.Dense(40, activation='relu'),\n",
    "    tf.keras.layers.Dropout(0.5),\n",
    "    tf.keras.layers.Dense(20, activation='relu'),\n",
    "    tf.keras.layers.Dropout(0.5),    \n",
    "    tf.keras.layers.Dense(1, activation='sigmoid')\n",
    "])\n",
    "opt = keras.optimizers.Adam(learning_rate=0.0005)\n",
    "model.compile(loss='binary_crossentropy',optimizer=opt,metrics=['accuracy'])\n",
    "model.summary()"
   ]
  },
  {
   "cell_type": "code",
   "execution_count": 25,
   "metadata": {},
   "outputs": [
    {
     "name": "stdout",
     "output_type": "stream",
     "text": [
      "Epoch 1/5\n",
      "11988/11988 [==============================] - 5517s 460ms/step - loss: 0.5177 - accuracy: 0.7402 - val_loss: 0.4697 - val_accuracy: 0.7645\n",
      "Epoch 2/5\n",
      "11988/11988 [==============================] - 5474s 457ms/step - loss: 0.4628 - accuracy: 0.7777 - val_loss: 0.4548 - val_accuracy: 0.7752\n",
      "Epoch 3/5\n",
      "11988/11988 [==============================] - 5616s 468ms/step - loss: 0.4365 - accuracy: 0.7937 - val_loss: 0.4594 - val_accuracy: 0.7706\n",
      "Epoch 4/5\n",
      "11988/11988 [==============================] - 5555s 463ms/step - loss: 0.4115 - accuracy: 0.8088 - val_loss: 0.4516 - val_accuracy: 0.7807\n",
      "Epoch 5/5\n",
      "11988/11988 [==============================] - 5907s 493ms/step - loss: 0.3852 - accuracy: 0.8230 - val_loss: 0.4756 - val_accuracy: 0.7762\n"
     ]
    }
   ],
   "source": [
    "batch_size = 100\n",
    "epochs = 5\n",
    "history = model.fit(X, \n",
    "                     y, \n",
    "                     batch_size=batch_size, \n",
    "                     epochs=epochs, \n",
    "                     validation_split=0.2)"
   ]
  },
  {
   "cell_type": "code",
   "execution_count": 26,
   "metadata": {},
   "outputs": [
    {
     "data": {
      "image/png": "[encoded data removed]",
      "text/plain": [
       "<Figure size 432x288 with 1 Axes>"
      ]
     },
     "metadata": {
      "needs_background": "light"
     },
     "output_type": "display_data"
    },
    {
     "data": {
      "image/png": "[encoded data removed]",
      "text/plain": [
       "<Figure size 432x288 with 1 Axes>"
      ]
     },
     "metadata": {
      "needs_background": "light"
     },
     "output_type": "display_data"
    }
   ],
   "source": [
    "import matplotlib.pyplot as plt\n",
    "\n",
    "\n",
    "def plot_graphs(history, string):\n",
    "  plt.plot(history.history[string])\n",
    "  plt.plot(history.history['val_'+string])\n",
    "  plt.xlabel(\"Epochs\")\n",
    "  plt.ylabel(string)\n",
    "  plt.legend([string, 'val_'+string])\n",
    "  plt.show()\n",
    "  \n",
    "plot_graphs(history, \"accuracy\")\n",
    "plot_graphs(history, \"loss\")"
   ]
  },
  {
   "cell_type": "code",
   "execution_count": 79,
   "metadata": {},
   "outputs": [],
   "source": [
    "model.save('news_stack_lstm.h5')"
   ]
  },
  {
   "cell_type": "code",
   "execution_count": 27,
   "metadata": {},
   "outputs": [],
   "source": [
    "def test(text, true_class, passage=True, check=True):\n",
    "    '''\n",
    "    Takes sentence or passage as input, \n",
    "    returns ideological bias estimate in text'''\n",
    "    test_text = []\n",
    "    if passage: \n",
    "        for sentence in sent_tokenize(text):\n",
    "            test_text.append(sentence)\n",
    "    else:\n",
    "        test_text = [text]\n",
    "        \n",
    "    text_token = tokenizer.texts_to_sequences(test_text)\n",
    "    text_pad = pad_sequences(text_token, maxlen = maxlen)\n",
    "    pred_class = model.predict_classes(text_pad)\n",
    "    pred_score = model.predict(text_pad)\n",
    "    naive_loss = abs(true_class - pred_score)\n",
    "    \n",
    "    pol_class = 'right'\n",
    "    content = 'sentence'\n",
    "    success = 'succeeds'\n",
    " \n",
    "    pred_score_passage = np.sum(pred_score)/int(len(text_pad))\n",
    "    if passage:\n",
    "        pred_class = 1\n",
    "        if pred_score_passage < 0.5: pred_class, pol_class = 0, 'left'\n",
    "        bias = float(abs(0.5-pred_score_passage)/0.5*100)\n",
    "        content = 'passage'\n",
    "        if check: \n",
    "            if pred_class != true_class: success = 'fails'\n",
    "    else:\n",
    "        if pred_score < 0.5: pol_class = 'left'\n",
    "        bias = float(abs(0.5-pred_score)/0.5*100)\n",
    "        if check: \n",
    "            if pred_class != true_class: success = 'fails'\n",
    "    \n",
    "    print('===========================================================================')\n",
    "    print('Your answer:')\n",
    "    print('------------')\n",
    "    print(f'  - This {content} leans toward the {pol_class} in the political spectrum.')\n",
    "    print(f'  - It is approximately {bias: .2f}% percent biased to the {pol_class}.')\n",
    "    print(f'  - This model {success} in predicting the political bias.')\n",
    "    print('===========================================================================')\n",
    "    \n",
    "    return pred_class, pred_score, naive_loss"
   ]
  },
  {
   "cell_type": "markdown",
   "metadata": {},
   "source": [
    "### Test Case A: right-leaning sentences"
   ]
  },
  {
   "cell_type": "markdown",
   "metadata": {},
   "source": [
    "##### A1)."
   ]
  },
  {
   "cell_type": "code",
   "execution_count": 28,
   "metadata": {},
   "outputs": [],
   "source": [
    "fox_test1 = 'Top Republicans hit back at Pelosi for hypercharged language, calling GOP enemies of the state'"
   ]
  },
  {
   "cell_type": "code",
   "execution_count": 29,
   "metadata": {},
   "outputs": [
    {
     "data": {
      "text/plain": [
       "'Top Republicans hit back at Pelosi for hypercharged language, calling GOP enemies of the state'"
      ]
     },
     "execution_count": 29,
     "metadata": {},
     "output_type": "execute_result"
    }
   ],
   "source": [
    "fox_test1"
   ]
  },
  {
   "cell_type": "code",
   "execution_count": 30,
   "metadata": {},
   "outputs": [
    {
     "name": "stdout",
     "output_type": "stream",
     "text": [
      "WARNING:tensorflow:From <ipython-input-27-6e475a80cb8c>:11: Sequential.predict_classes (from tensorflow.python.keras.engine.sequential) is deprecated and will be removed after 2021-01-01.\n",
      "Instructions for updating:\n",
      "Please use instead:* `np.argmax(model.predict(x), axis=-1)`,   if your model does multi-class classification   (e.g. if it uses a `softmax` last-layer activation).* `(model.predict(x) > 0.5).astype(\"int32\")`,   if your model does binary classification   (e.g. if it uses a `sigmoid` last-layer activation).\n",
      "===========================================================================\n",
      "Your answer:\n",
      "------------\n",
      "  - This sentence leans toward the right in the political spectrum.\n",
      "  - It is approximately  49.07% percent biased to the right.\n",
      "  - This model succeeds in predicting the political bias.\n",
      "===========================================================================\n"
     ]
    },
    {
     "data": {
      "text/plain": [
       "(array([[1]], dtype=int32),\n",
       " array([[0.7453557]], dtype=float32),\n",
       " array([[0.25464427]], dtype=float32))"
      ]
     },
     "execution_count": 30,
     "metadata": {},
     "output_type": "execute_result"
    }
   ],
   "source": [
    "test(fox_test1, 1, passage=False)"
   ]
  },
  {
   "cell_type": "markdown",
   "metadata": {},
   "source": [
    "##### A2)."
   ]
  },
  {
   "cell_type": "code",
   "execution_count": 31,
   "metadata": {},
   "outputs": [],
   "source": [
    "fox_test2 = 'While the 2016 Republican convention was riddled with tension and protests over Donald Trump\"s rise at the GOP nominee, four years later the gathering is dissent free as the four-day confab serves as a celebration of Trump – and a testament to the president\"s complete takeover of the party.'"
   ]
  },
  {
   "cell_type": "code",
   "execution_count": 32,
   "metadata": {},
   "outputs": [
    {
     "data": {
      "text/plain": [
       "'While the 2016 Republican convention was riddled with tension and protests over Donald Trump\"s rise at the GOP nominee, four years later the gathering is dissent free as the four-day confab serves as a celebration of Trump – and a testament to the president\"s complete takeover of the party.'"
      ]
     },
     "execution_count": 32,
     "metadata": {},
     "output_type": "execute_result"
    }
   ],
   "source": [
    "fox_test2"
   ]
  },
  {
   "cell_type": "code",
   "execution_count": 33,
   "metadata": {},
   "outputs": [
    {
     "name": "stdout",
     "output_type": "stream",
     "text": [
      "===========================================================================\n",
      "Your answer:\n",
      "------------\n",
      "  - This sentence leans toward the right in the political spectrum.\n",
      "  - It is approximately  90.21% percent biased to the right.\n",
      "  - This model succeeds in predicting the political bias.\n",
      "===========================================================================\n"
     ]
    },
    {
     "data": {
      "text/plain": [
       "(array([[1]], dtype=int32),\n",
       " array([[0.9510536]], dtype=float32),\n",
       " array([[0.04894638]], dtype=float32))"
      ]
     },
     "execution_count": 33,
     "metadata": {},
     "output_type": "execute_result"
    }
   ],
   "source": [
    "test(fox_test2, 1, passage=False)"
   ]
  },
  {
   "cell_type": "markdown",
   "metadata": {},
   "source": [
    "### Test Case B: left-leaning sentences"
   ]
  },
  {
   "cell_type": "markdown",
   "metadata": {},
   "source": [
    "##### B1)."
   ]
  },
  {
   "cell_type": "code",
   "execution_count": 34,
   "metadata": {},
   "outputs": [],
   "source": [
    "cnn_test = 'House Republicans, while still strong in rural areas, are also at high risk for even further losses in the big metropolitan areas that keyed the Democratic surge in 2018.'"
   ]
  },
  {
   "cell_type": "code",
   "execution_count": 35,
   "metadata": {},
   "outputs": [
    {
     "data": {
      "text/plain": [
       "'House Republicans, while still strong in rural areas, are also at high risk for even further losses in the big metropolitan areas that keyed the Democratic surge in 2018.'"
      ]
     },
     "execution_count": 35,
     "metadata": {},
     "output_type": "execute_result"
    }
   ],
   "source": [
    "cnn_test"
   ]
  },
  {
   "cell_type": "code",
   "execution_count": 36,
   "metadata": {},
   "outputs": [
    {
     "name": "stdout",
     "output_type": "stream",
     "text": [
      "===========================================================================\n",
      "Your answer:\n",
      "------------\n",
      "  - This sentence leans toward the left in the political spectrum.\n",
      "  - It is approximately  39.03% percent biased to the left.\n",
      "  - This model succeeds in predicting the political bias.\n",
      "===========================================================================\n"
     ]
    },
    {
     "data": {
      "text/plain": [
       "(array([[0]], dtype=int32),\n",
       " array([[0.3048725]], dtype=float32),\n",
       " array([[0.3048725]], dtype=float32))"
      ]
     },
     "execution_count": 36,
     "metadata": {},
     "output_type": "execute_result"
    }
   ],
   "source": [
    "test(cnn_test, 0, passage=False)"
   ]
  },
  {
   "cell_type": "markdown",
   "metadata": {},
   "source": [
    "##### B2)."
   ]
  },
  {
   "cell_type": "code",
   "execution_count": 37,
   "metadata": {},
   "outputs": [],
   "source": [
    "cnn_test2 = 'Evidence is growing that in November, the GOP could be pushed back further into its strongholds and lose more ground in diverse, growing metropolitan America, even if Trump finds a way to overcome his persistent deficits in national polls to Democratic nominee Joe Biden.'"
   ]
  },
  {
   "cell_type": "code",
   "execution_count": 38,
   "metadata": {},
   "outputs": [
    {
     "data": {
      "text/plain": [
       "'Evidence is growing that in November, the GOP could be pushed back further into its strongholds and lose more ground in diverse, growing metropolitan America, even if Trump finds a way to overcome his persistent deficits in national polls to Democratic nominee Joe Biden.'"
      ]
     },
     "execution_count": 38,
     "metadata": {},
     "output_type": "execute_result"
    }
   ],
   "source": [
    "cnn_test2"
   ]
  },
  {
   "cell_type": "code",
   "execution_count": 39,
   "metadata": {},
   "outputs": [
    {
     "name": "stdout",
     "output_type": "stream",
     "text": [
      "===========================================================================\n",
      "Your answer:\n",
      "------------\n",
      "  - This sentence leans toward the right in the political spectrum.\n",
      "  - It is approximately  36.25% percent biased to the right.\n",
      "  - This model fails in predicting the political bias.\n",
      "===========================================================================\n"
     ]
    },
    {
     "data": {
      "text/plain": [
       "(array([[1]], dtype=int32),\n",
       " array([[0.68125]], dtype=float32),\n",
       " array([[0.68125]], dtype=float32))"
      ]
     },
     "execution_count": 39,
     "metadata": {},
     "output_type": "execute_result"
    }
   ],
   "source": [
    "test(cnn_test2, 0, passage=False)"
   ]
  },
  {
   "cell_type": "markdown",
   "metadata": {},
   "source": [
    "### Test Case C: right-leaning passages"
   ]
  },
  {
   "cell_type": "markdown",
   "metadata": {},
   "source": [
    "##### C1)."
   ]
  },
  {
   "cell_type": "code",
   "execution_count": 40,
   "metadata": {},
   "outputs": [],
   "source": [
    "fox_test_passage = 'The Journal article, which cites the International Monetary Fund, states that the pandemic and the resulting economic shutdowns have led to the expectation that global output will fall 5% this year, which is “far worse than during the [2008] financial crisis. It has also led to 400 million jobs lost worldwide, according to the International Labor Organization, with 13 million job losses in the U.S. alone.'"
   ]
  },
  {
   "cell_type": "code",
   "execution_count": 41,
   "metadata": {},
   "outputs": [
    {
     "data": {
      "text/plain": [
       "'The Journal article, which cites the International Monetary Fund, states that the pandemic and the resulting economic shutdowns have led to the expectation that global output will fall 5% this year, which is “far worse than during the [2008] financial crisis. It has also led to 400 million jobs lost worldwide, according to the International Labor Organization, with 13 million job losses in the U.S. alone.'"
      ]
     },
     "execution_count": 41,
     "metadata": {},
     "output_type": "execute_result"
    }
   ],
   "source": [
    "fox_test_passage"
   ]
  },
  {
   "cell_type": "code",
   "execution_count": 42,
   "metadata": {},
   "outputs": [
    {
     "name": "stdout",
     "output_type": "stream",
     "text": [
      "===========================================================================\n",
      "Your answer:\n",
      "------------\n",
      "  - This passage leans toward the right in the political spectrum.\n",
      "  - It is approximately  75.76% percent biased to the right.\n",
      "  - This model succeeds in predicting the political bias.\n",
      "===========================================================================\n"
     ]
    },
    {
     "data": {
      "text/plain": [
       "(1,\n",
       " array([[0.9533558],\n",
       "        [0.8042194]], dtype=float32),\n",
       " array([[0.04664421],\n",
       "        [0.19578058]], dtype=float32))"
      ]
     },
     "execution_count": 42,
     "metadata": {},
     "output_type": "execute_result"
    }
   ],
   "source": [
    "test(fox_test_passage, 1, passage=True)"
   ]
  },
  {
   "cell_type": "markdown",
   "metadata": {},
   "source": [
    "##### C2)."
   ]
  },
  {
   "cell_type": "code",
   "execution_count": 43,
   "metadata": {},
   "outputs": [],
   "source": [
    "fox_test_passage2 = 'On Tuesday, Israeli Defense Minister Benny Gantz had his first official talk with his UAE counterpart. The two discussed security cooperation between their countries and other regional issues. This, after Pompeo met Monday with Israeli Prime Minister Benjamin Netanyahu in Jerusalem and in a statement afterward slammed others for not supporting more pressure on Iranian leadership in Tehran. But to the backdrop of the election year, America’s top diplomat has been pressing hard to mend regional ties for Israel while isolating Iran. He was at the United Nations last week where he triggered a sanctions snapback on Iran for violations of the 2015 nuclear deal and continued provocative action in the Middle East.'"
   ]
  },
  {
   "cell_type": "code",
   "execution_count": 44,
   "metadata": {},
   "outputs": [
    {
     "data": {
      "text/plain": [
       "'On Tuesday, Israeli Defense Minister Benny Gantz had his first official talk with his UAE counterpart. The two discussed security cooperation between their countries and other regional issues. This, after Pompeo met Monday with Israeli Prime Minister Benjamin Netanyahu in Jerusalem and in a statement afterward slammed others for not supporting more pressure on Iranian leadership in Tehran. But to the backdrop of the election year, America’s top diplomat has been pressing hard to mend regional ties for Israel while isolating Iran. He was at the United Nations last week where he triggered a sanctions snapback on Iran for violations of the 2015 nuclear deal and continued provocative action in the Middle East.'"
      ]
     },
     "execution_count": 44,
     "metadata": {},
     "output_type": "execute_result"
    }
   ],
   "source": [
    "fox_test_passage2"
   ]
  },
  {
   "cell_type": "code",
   "execution_count": 45,
   "metadata": {},
   "outputs": [
    {
     "name": "stdout",
     "output_type": "stream",
     "text": [
      "===========================================================================\n",
      "Your answer:\n",
      "------------\n",
      "  - This passage leans toward the right in the political spectrum.\n",
      "  - It is approximately  23.49% percent biased to the right.\n",
      "  - This model succeeds in predicting the political bias.\n",
      "===========================================================================\n"
     ]
    },
    {
     "data": {
      "text/plain": [
       "(1,\n",
       " array([[0.8274263 ],\n",
       "        [0.6114445 ],\n",
       "        [0.57166356],\n",
       "        [0.48463285],\n",
       "        [0.5921058 ]], dtype=float32),\n",
       " array([[0.17257369],\n",
       "        [0.38855553],\n",
       "        [0.42833644],\n",
       "        [0.51536715],\n",
       "        [0.4078942 ]], dtype=float32))"
      ]
     },
     "execution_count": 45,
     "metadata": {},
     "output_type": "execute_result"
    }
   ],
   "source": [
    "test(fox_test_passage2, 1, passage=True)"
   ]
  },
  {
   "cell_type": "markdown",
   "metadata": {},
   "source": [
    "### Test Case D: left-leaning passages"
   ]
  },
  {
   "cell_type": "markdown",
   "metadata": {},
   "source": [
    "##### D1)."
   ]
  },
  {
   "cell_type": "code",
   "execution_count": 46,
   "metadata": {},
   "outputs": [],
   "source": [
    "cnn_test_passage = 'Compared with the 2016 GOP convention, which rippled with unresolved tension and resistance to Trump rise, the conspicuous absence of dissent at this years event underscores how the President has stamped the party with his trademark as surely as if it were one of his downtown skyscrapers. The party choice to skip passing a platform and instead approve a brief statement declaring it will enthusiastically support the Presidents America-first agenda testifies to his triumph.'           "
   ]
  },
  {
   "cell_type": "code",
   "execution_count": 47,
   "metadata": {},
   "outputs": [
    {
     "data": {
      "text/plain": [
       "'Compared with the 2016 GOP convention, which rippled with unresolved tension and resistance to Trump rise, the conspicuous absence of dissent at this years event underscores how the President has stamped the party with his trademark as surely as if it were one of his downtown skyscrapers. The party choice to skip passing a platform and instead approve a brief statement declaring it will enthusiastically support the Presidents America-first agenda testifies to his triumph.'"
      ]
     },
     "execution_count": 47,
     "metadata": {},
     "output_type": "execute_result"
    }
   ],
   "source": [
    "cnn_test_passage"
   ]
  },
  {
   "cell_type": "code",
   "execution_count": 48,
   "metadata": {},
   "outputs": [
    {
     "name": "stdout",
     "output_type": "stream",
     "text": [
      "===========================================================================\n",
      "Your answer:\n",
      "------------\n",
      "  - This passage leans toward the left in the political spectrum.\n",
      "  - It is approximately  20.82% percent biased to the left.\n",
      "  - This model succeeds in predicting the political bias.\n",
      "===========================================================================\n"
     ]
    },
    {
     "data": {
      "text/plain": [
       "(0,\n",
       " array([[0.04622942],\n",
       "        [0.74560666]], dtype=float32),\n",
       " array([[0.04622942],\n",
       "        [0.74560666]], dtype=float32))"
      ]
     },
     "execution_count": 48,
     "metadata": {},
     "output_type": "execute_result"
    }
   ],
   "source": [
    "test(cnn_test_passage, 0, passage=True)"
   ]
  },
  {
   "cell_type": "markdown",
   "metadata": {},
   "source": [
    "##### D2)."
   ]
  },
  {
   "cell_type": "code",
   "execution_count": 49,
   "metadata": {},
   "outputs": [],
   "source": [
    "cnn_test_passage2 = 'In 2016, Trump won very few of the states with the most immigrants, the most college graduates or the fewest White Christians, and polls show he could lose several of the small number he did carry in each category. House Republicans, while still strong in rural areas, are also at high risk for even further losses in the big metropolitan areas that keyed the Democratic surge in 2018. That same demographic and geographic realignment threatens embattled GOP senators in Arizona, Colorado, North Carolina, Maine and potentially Iowa, Georgia and conceivably even Texas. The conundrum facing the GOP will be visible in the passionate support for the President on display this week. As the previously Republican-leaning voters who can\"t abide Trump\"s definition drift away from the party a dynamic that Democrats highlighted last week by featuring so many prominent Republicans at their own convention -- what\"s left are those most bonded to Trump\"s polarizing approach. That will make it difficult to build a coalition for changing direction if Trump loses this fall, even if he takes down the GOP Senate majority with him.'"
   ]
  },
  {
   "cell_type": "code",
   "execution_count": 50,
   "metadata": {},
   "outputs": [
    {
     "data": {
      "text/plain": [
       "'In 2016, Trump won very few of the states with the most immigrants, the most college graduates or the fewest White Christians, and polls show he could lose several of the small number he did carry in each category. House Republicans, while still strong in rural areas, are also at high risk for even further losses in the big metropolitan areas that keyed the Democratic surge in 2018. That same demographic and geographic realignment threatens embattled GOP senators in Arizona, Colorado, North Carolina, Maine and potentially Iowa, Georgia and conceivably even Texas. The conundrum facing the GOP will be visible in the passionate support for the President on display this week. As the previously Republican-leaning voters who can\"t abide Trump\"s definition drift away from the party a dynamic that Democrats highlighted last week by featuring so many prominent Republicans at their own convention -- what\"s left are those most bonded to Trump\"s polarizing approach. That will make it difficult to build a coalition for changing direction if Trump loses this fall, even if he takes down the GOP Senate majority with him.'"
      ]
     },
     "execution_count": 50,
     "metadata": {},
     "output_type": "execute_result"
    }
   ],
   "source": [
    "cnn_test_passage2"
   ]
  },
  {
   "cell_type": "code",
   "execution_count": 51,
   "metadata": {},
   "outputs": [
    {
     "name": "stdout",
     "output_type": "stream",
     "text": [
      "===========================================================================\n",
      "Your answer:\n",
      "------------\n",
      "  - This passage leans toward the right in the political spectrum.\n",
      "  - It is approximately  0.75% percent biased to the right.\n",
      "  - This model fails in predicting the political bias.\n",
      "===========================================================================\n"
     ]
    },
    {
     "data": {
      "text/plain": [
       "(1,\n",
       " array([[0.58913153],\n",
       "        [0.3048725 ],\n",
       "        [0.78584087],\n",
       "        [0.28354204],\n",
       "        [0.50860655],\n",
       "        [0.55037624]], dtype=float32),\n",
       " array([[0.58913153],\n",
       "        [0.3048725 ],\n",
       "        [0.78584087],\n",
       "        [0.28354204],\n",
       "        [0.50860655],\n",
       "        [0.55037624]], dtype=float32))"
      ]
     },
     "execution_count": 51,
     "metadata": {},
     "output_type": "execute_result"
    }
   ],
   "source": [
    "test(cnn_test_passage2, 0, passage=True)"
   ]
  },
  {
   "cell_type": "markdown",
   "metadata": {},
   "source": [
    "### More Testing"
   ]
  },
  {
   "cell_type": "code",
   "execution_count": 53,
   "metadata": {},
   "outputs": [],
   "source": [
    "breitbart1 = 'He also says Trump is no hawk, wisely wielding the sword when required and believing in seeking peace instead of perpetual conflict. He then praises Trump\"s peace deal between Israel and the United Arab Emirates. He says this week, Afghan officials will start peace negotiations with the Taliban to end America\"s longest war.'"
   ]
  },
  {
   "cell_type": "code",
   "execution_count": 54,
   "metadata": {},
   "outputs": [
    {
     "data": {
      "text/plain": [
       "'He also says Trump is no hawk, wisely wielding the sword when required and believing in seeking peace instead of perpetual conflict. He then praises Trump\"s peace deal between Israel and the United Arab Emirates. He says this week, Afghan officials will start peace negotiations with the Taliban to end America\"s longest war.'"
      ]
     },
     "execution_count": 54,
     "metadata": {},
     "output_type": "execute_result"
    }
   ],
   "source": [
    "breitbart1"
   ]
  },
  {
   "cell_type": "code",
   "execution_count": 55,
   "metadata": {},
   "outputs": [
    {
     "name": "stdout",
     "output_type": "stream",
     "text": [
      "===========================================================================\n",
      "Your answer:\n",
      "------------\n",
      "  - This passage leans toward the right in the political spectrum.\n",
      "  - It is approximately  51.97% percent biased to the right.\n",
      "  - This model succeeds in predicting the political bias.\n",
      "===========================================================================\n"
     ]
    },
    {
     "data": {
      "text/plain": [
       "(1,\n",
       " array([[0.59943   ],\n",
       "        [0.85565877],\n",
       "        [0.82439196]], dtype=float32),\n",
       " array([[0.40056998],\n",
       "        [0.14434123],\n",
       "        [0.17560804]], dtype=float32))"
      ]
     },
     "execution_count": 55,
     "metadata": {},
     "output_type": "execute_result"
    }
   ],
   "source": [
    "test(breitbart1, 1, passage=True)"
   ]
  },
  {
   "cell_type": "code",
   "execution_count": 56,
   "metadata": {},
   "outputs": [],
   "source": [
    "crenshaw = 'America is a fabric woven from the threads of history’s best stories, best attributes, and greatest ideas. The American spirit reflects the oldest and most important virtues: self-sacrifice, courage, tolerance, love of country, grace, and passion for human achievement, We can decide right now that American greatness will not be rejected nor squandered. As the American founding was grounded in individual liberty, so will be our future.'"
   ]
  },
  {
   "cell_type": "code",
   "execution_count": 57,
   "metadata": {},
   "outputs": [
    {
     "data": {
      "text/plain": [
       "'America is a fabric woven from the threads of history’s best stories, best attributes, and greatest ideas. The American spirit reflects the oldest and most important virtues: self-sacrifice, courage, tolerance, love of country, grace, and passion for human achievement, We can decide right now that American greatness will not be rejected nor squandered. As the American founding was grounded in individual liberty, so will be our future.'"
      ]
     },
     "execution_count": 57,
     "metadata": {},
     "output_type": "execute_result"
    }
   ],
   "source": [
    "crenshaw"
   ]
  },
  {
   "cell_type": "code",
   "execution_count": 58,
   "metadata": {},
   "outputs": [
    {
     "name": "stdout",
     "output_type": "stream",
     "text": [
      "===========================================================================\n",
      "Your answer:\n",
      "------------\n",
      "  - This passage leans toward the right in the political spectrum.\n",
      "  - It is approximately  35.55% percent biased to the right.\n",
      "  - This model succeeds in predicting the political bias.\n",
      "===========================================================================\n"
     ]
    },
    {
     "data": {
      "text/plain": [
       "(1,\n",
       " array([[0.41671482],\n",
       "        [0.8430486 ],\n",
       "        [0.77341557]], dtype=float32),\n",
       " array([[0.5832852 ],\n",
       "        [0.15695143],\n",
       "        [0.22658443]], dtype=float32))"
      ]
     },
     "execution_count": 58,
     "metadata": {},
     "output_type": "execute_result"
    }
   ],
   "source": [
    "test(crenshaw, 1, passage=True)"
   ]
  },
  {
   "cell_type": "code",
   "execution_count": 59,
   "metadata": {},
   "outputs": [],
   "source": [
    "blackburn = 'Leftists try to turn them into villains. They try to \"cancel\" them. But I\"m here to tell you that these heroes can\"t be cancelled. Tennessee is full of them—after all, we’re the volunteer state.'"
   ]
  },
  {
   "cell_type": "code",
   "execution_count": 60,
   "metadata": {},
   "outputs": [
    {
     "data": {
      "text/plain": [
       "'Leftists try to turn them into villains. They try to \"cancel\" them. But I\"m here to tell you that these heroes can\"t be cancelled. Tennessee is full of them—after all, we’re the volunteer state.'"
      ]
     },
     "execution_count": 60,
     "metadata": {},
     "output_type": "execute_result"
    }
   ],
   "source": [
    "blackburn"
   ]
  },
  {
   "cell_type": "code",
   "execution_count": 61,
   "metadata": {},
   "outputs": [
    {
     "name": "stdout",
     "output_type": "stream",
     "text": [
      "===========================================================================\n",
      "Your answer:\n",
      "------------\n",
      "  - This passage leans toward the right in the political spectrum.\n",
      "  - It is approximately  60.23% percent biased to the right.\n",
      "  - This model succeeds in predicting the political bias.\n",
      "===========================================================================\n"
     ]
    },
    {
     "data": {
      "text/plain": [
       "(1,\n",
       " array([[0.9580717 ],\n",
       "        [0.6917716 ],\n",
       "        [0.9294432 ],\n",
       "        [0.62528735]], dtype=float32),\n",
       " array([[0.04192829],\n",
       "        [0.30822837],\n",
       "        [0.07055682],\n",
       "        [0.37471265]], dtype=float32))"
      ]
     },
     "execution_count": 61,
     "metadata": {},
     "output_type": "execute_result"
    }
   ],
   "source": [
    "test(blackburn, 1, passage=True)"
   ]
  },
  {
   "cell_type": "code",
   "execution_count": 65,
   "metadata": {},
   "outputs": [],
   "source": [
    "commondream = 'As President Donald Trump and top members of his administration continue their push to deliver another round of tax cuts to rich investors, an analysis published Tuesday by the Institute for Policy Studies and Americans for Tax Fairness showed that U.S. billionaires have seen their collective wealth soar by nearly $800 billion since Covid-19 began spreading rapidly across the country in March.'"
   ]
  },
  {
   "cell_type": "code",
   "execution_count": 66,
   "metadata": {},
   "outputs": [
    {
     "data": {
      "text/plain": [
       "'As President Donald Trump and top members of his administration continue their push to deliver another round of tax cuts to rich investors, an analysis published Tuesday by the Institute for Policy Studies and Americans for Tax Fairness showed that U.S. billionaires have seen their collective wealth soar by nearly $800 billion since Covid-19 began spreading rapidly across the country in March.'"
      ]
     },
     "execution_count": 66,
     "metadata": {},
     "output_type": "execute_result"
    }
   ],
   "source": [
    "commondream"
   ]
  },
  {
   "cell_type": "code",
   "execution_count": 68,
   "metadata": {},
   "outputs": [
    {
     "name": "stdout",
     "output_type": "stream",
     "text": [
      "===========================================================================\n",
      "Your answer:\n",
      "------------\n",
      "  - This sentence leans toward the right in the political spectrum.\n",
      "  - It is approximately  68.44% percent biased to the right.\n",
      "  - This model fails in predicting the political bias.\n",
      "===========================================================================\n"
     ]
    },
    {
     "data": {
      "text/plain": [
       "(array([[1]], dtype=int32),\n",
       " array([[0.84219825]], dtype=float32),\n",
       " array([[0.84219825]], dtype=float32))"
      ]
     },
     "execution_count": 68,
     "metadata": {},
     "output_type": "execute_result"
    }
   ],
   "source": [
    "test(commondream, 0, passage=False)"
   ]
  },
  {
   "cell_type": "code",
   "execution_count": 69,
   "metadata": {},
   "outputs": [],
   "source": [
    "cnn2 = 'It\"s a historic moment in the sporting world that will stand starkly against the Republican messages of support for police and regular calls for athletes to stick to sports instead of making political statements. Pence is expected to address players kneeling during the National Anthem as a form of protest against police brutality and both Trump and Pence have repeatedly criticized players who have taken a knee as disrespectful to the flag and to American values.'"
   ]
  },
  {
   "cell_type": "code",
   "execution_count": 70,
   "metadata": {},
   "outputs": [
    {
     "data": {
      "text/plain": [
       "'It\"s a historic moment in the sporting world that will stand starkly against the Republican messages of support for police and regular calls for athletes to stick to sports instead of making political statements. Pence is expected to address players kneeling during the National Anthem as a form of protest against police brutality and both Trump and Pence have repeatedly criticized players who have taken a knee as disrespectful to the flag and to American values.'"
      ]
     },
     "execution_count": 70,
     "metadata": {},
     "output_type": "execute_result"
    }
   ],
   "source": [
    "cnn2"
   ]
  },
  {
   "cell_type": "code",
   "execution_count": 71,
   "metadata": {},
   "outputs": [
    {
     "name": "stdout",
     "output_type": "stream",
     "text": [
      "===========================================================================\n",
      "Your answer:\n",
      "------------\n",
      "  - This passage leans toward the left in the political spectrum.\n",
      "  - It is approximately  51.31% percent biased to the left.\n",
      "  - This model succeeds in predicting the political bias.\n",
      "===========================================================================\n"
     ]
    },
    {
     "data": {
      "text/plain": [
       "(0,\n",
       " array([[0.14254025],\n",
       "        [0.34436998]], dtype=float32),\n",
       " array([[0.14254025],\n",
       "        [0.34436998]], dtype=float32))"
      ]
     },
     "execution_count": 71,
     "metadata": {},
     "output_type": "execute_result"
    }
   ],
   "source": [
    "test(cnn2, 0, passage=True)"
   ]
  },
  {
   "cell_type": "code",
   "execution_count": 72,
   "metadata": {},
   "outputs": [],
   "source": [
    "cnn_pas1 = 'If the first night of the Republican National Convention was about letting the Trump team”s unhinged flag fly, night two was an attempt to leverage Trumpworld women to send a message of sanity and compassion. The scary thing is, it might have worked. First Lady Melania Trump closed out the night with a long speech that was notable for its demonstration of basic human compassion and decency -- recognizing that there is still a pandemic going on and that it continues to kill Americans, while other speakers simply referred to Covid-19 in the past tense. \"At least claimed to care about the suffering of others\" is a startlingly low bar, and yet Melania Trump was one of the few convention speakers who managed to clear it. The rest of the turn toward the soft and the gentle largely came from other women in Trump”s orbit. A brief vignette about the women of the Trump administration highlighted the mothers who have served as press secretary (three in four years, plus Sean Spicer), as well as Ronna McDaniel, the self-described \"housewife\" who runs the Republican National Committee. The women”s empowerment, independence and maternal status were all front and center. And their message was clear: Trump cares about women. Or, at the very least, you can now vote for Trump and have some defense when people call you sexist. In the Trump administration”s telling, his presidency has been excellent for women: It has \"empowered\" us, made us more money and put us in high-level positions. But these claims are far from the truth. The First Lady, who years ago parroted the racist claim that Barack Obama might not be a US citizen, used her convention dais to repeat her husband”s flat-out lie that he had appointed a historic number of women to positions of power -- a line that the administration has been pushing for years, when in fact Trump has appointed fewer women than any president in recent history. The convention put a feminist veneer over a party that has long been hostile to the rights of women, and a President who stands accused of sexual harassment (which he denies), has bragged about grabbing women”s genitals, calls women he dislikes all manner of derogatory names and has boasted about refusing to so much as change a diaper because raising children is women”s work. Even the RNC”s own segments about women were telling, as women were often presented as mothers first -- all three of Trump”s female press secretaries were defined by their parental status, and Melania Trump referred to \"mothers and parents\" instead of \"mothers and fathers.\" This stereotype that the convention played on -- that motherhood is a woman\"s highest calling -- is the same one that helps to keep women out of power and, too often, professionally and personally reliant on mediocre men like Trump. As the carefully produced show put up imagery of suffragists marching for the vote, a right that was secured for women 100 years ago, a savvy viewer would hopefully realize that today”s Republican Party -- a conservative, anti-feminist party -- is the heir to those who fought against them. The GOP even gave us proof in the form of Abby Johnson, a speaker at the RNC who is an anti-abortion advocate --- and who tweeted in May her belief that if a married woman disagrees with her husband on who to vote for, she should defer to his political choice. It was quite a show. The Republican Party seems to understand that liberal ideas -- racial justice, women”s rights, health care access, diversity, welcoming immigrants -- are actually pretty popular in the United States. But in practice they are also often antagonistic to these same ideals; GOP leaders functionally undercut them at every turn. They and their voters understand that these are good values to have, and so they want to give the appearance of embracing them without actually having to live them. In the same way, the President who leads chants of \"build the wall\" used the White House to conduct a televised naturalization ceremony -- offensive enough in its egregious use of The People House for partisan campaign purposes, but telling in that this administration wants credit for doing the right thing for immigrants while actually causing them considerable harm.'"
   ]
  },
  {
   "cell_type": "code",
   "execution_count": 73,
   "metadata": {},
   "outputs": [
    {
     "data": {
      "text/plain": [
       "'If the first night of the Republican National Convention was about letting the Trump team”s unhinged flag fly, night two was an attempt to leverage Trumpworld women to send a message of sanity and compassion. The scary thing is, it might have worked. First Lady Melania Trump closed out the night with a long speech that was notable for its demonstration of basic human compassion and decency -- recognizing that there is still a pandemic going on and that it continues to kill Americans, while other speakers simply referred to Covid-19 in the past tense. \"At least claimed to care about the suffering of others\" is a startlingly low bar, and yet Melania Trump was one of the few convention speakers who managed to clear it. The rest of the turn toward the soft and the gentle largely came from other women in Trump”s orbit. A brief vignette about the women of the Trump administration highlighted the mothers who have served as press secretary (three in four years, plus Sean Spicer), as well as Ronna McDaniel, the self-described \"housewife\" who runs the Republican National Committee. The women”s empowerment, independence and maternal status were all front and center. And their message was clear: Trump cares about women. Or, at the very least, you can now vote for Trump and have some defense when people call you sexist. In the Trump administration”s telling, his presidency has been excellent for women: It has \"empowered\" us, made us more money and put us in high-level positions. But these claims are far from the truth. The First Lady, who years ago parroted the racist claim that Barack Obama might not be a US citizen, used her convention dais to repeat her husband”s flat-out lie that he had appointed a historic number of women to positions of power -- a line that the administration has been pushing for years, when in fact Trump has appointed fewer women than any president in recent history. The convention put a feminist veneer over a party that has long been hostile to the rights of women, and a President who stands accused of sexual harassment (which he denies), has bragged about grabbing women”s genitals, calls women he dislikes all manner of derogatory names and has boasted about refusing to so much as change a diaper because raising children is women”s work. Even the RNC”s own segments about women were telling, as women were often presented as mothers first -- all three of Trump”s female press secretaries were defined by their parental status, and Melania Trump referred to \"mothers and parents\" instead of \"mothers and fathers.\" This stereotype that the convention played on -- that motherhood is a woman\"s highest calling -- is the same one that helps to keep women out of power and, too often, professionally and personally reliant on mediocre men like Trump. As the carefully produced show put up imagery of suffragists marching for the vote, a right that was secured for women 100 years ago, a savvy viewer would hopefully realize that today”s Republican Party -- a conservative, anti-feminist party -- is the heir to those who fought against them. The GOP even gave us proof in the form of Abby Johnson, a speaker at the RNC who is an anti-abortion advocate --- and who tweeted in May her belief that if a married woman disagrees with her husband on who to vote for, she should defer to his political choice. It was quite a show. The Republican Party seems to understand that liberal ideas -- racial justice, women”s rights, health care access, diversity, welcoming immigrants -- are actually pretty popular in the United States. But in practice they are also often antagonistic to these same ideals; GOP leaders functionally undercut them at every turn. They and their voters understand that these are good values to have, and so they want to give the appearance of embracing them without actually having to live them. In the same way, the President who leads chants of \"build the wall\" used the White House to conduct a televised naturalization ceremony -- offensive enough in its egregious use of The People House for partisan campaign purposes, but telling in that this administration wants credit for doing the right thing for immigrants while actually causing them considerable harm.'"
      ]
     },
     "execution_count": 73,
     "metadata": {},
     "output_type": "execute_result"
    }
   ],
   "source": [
    "cnn_pas1"
   ]
  },
  {
   "cell_type": "code",
   "execution_count": 74,
   "metadata": {},
   "outputs": [
    {
     "name": "stdout",
     "output_type": "stream",
     "text": [
      "===========================================================================\n",
      "Your answer:\n",
      "------------\n",
      "  - This passage leans toward the left in the political spectrum.\n",
      "  - It is approximately  10.57% percent biased to the left.\n",
      "  - This model succeeds in predicting the political bias.\n",
      "===========================================================================\n"
     ]
    },
    {
     "data": {
      "text/plain": [
       "(0,\n",
       " array([[0.02871594],\n",
       "        [0.50526404],\n",
       "        [0.85289866],\n",
       "        [0.38981223],\n",
       "        [0.11670643],\n",
       "        [0.321648  ],\n",
       "        [0.15072021],\n",
       "        [0.5290451 ],\n",
       "        [0.85348845],\n",
       "        [0.8251424 ],\n",
       "        [0.68836206],\n",
       "        [0.46878803],\n",
       "        [0.4189396 ],\n",
       "        [0.20954624],\n",
       "        [0.5844393 ],\n",
       "        [0.5745114 ],\n",
       "        [0.37248567],\n",
       "        [0.29533672],\n",
       "        [0.1831983 ],\n",
       "        [0.1402424 ],\n",
       "        [0.6620529 ],\n",
       "        [0.6661685 ]], dtype=float32),\n",
       " array([[0.02871594],\n",
       "        [0.50526404],\n",
       "        [0.85289866],\n",
       "        [0.38981223],\n",
       "        [0.11670643],\n",
       "        [0.321648  ],\n",
       "        [0.15072021],\n",
       "        [0.5290451 ],\n",
       "        [0.85348845],\n",
       "        [0.8251424 ],\n",
       "        [0.68836206],\n",
       "        [0.46878803],\n",
       "        [0.4189396 ],\n",
       "        [0.20954624],\n",
       "        [0.5844393 ],\n",
       "        [0.5745114 ],\n",
       "        [0.37248567],\n",
       "        [0.29533672],\n",
       "        [0.1831983 ],\n",
       "        [0.1402424 ],\n",
       "        [0.6620529 ],\n",
       "        [0.6661685 ]], dtype=float32))"
      ]
     },
     "execution_count": 74,
     "metadata": {},
     "output_type": "execute_result"
    }
   ],
   "source": [
    "test(cnn_pas1, 0, passage=True)"
   ]
  },
  {
   "cell_type": "code",
   "execution_count": 75,
   "metadata": {},
   "outputs": [],
   "source": [
    "breitbart2 = 'Night three opens with a prayer from Rabbi Aryeh Spero, president of the Conference of Jewish Affairs. After the pledge of allegiance, South Dakota Gov. Kristi Noem say she is here tonight because America is an exceptional nation founded on equality, freedom, and opportunity. She says our founding principles are under attack and this election is between a man who believes in these ideals and someone who doesn’t and hasn’t built anything. After citing James Madison extensively, she says Americans will not be a subclass of experts. Noem rips the violence of the mobs and says the people who can’t afford to flee are left to fend for themselves.'"
   ]
  },
  {
   "cell_type": "code",
   "execution_count": 76,
   "metadata": {},
   "outputs": [
    {
     "data": {
      "text/plain": [
       "'Night three opens with a prayer from Rabbi Aryeh Spero, president of the Conference of Jewish Affairs. After the pledge of allegiance, South Dakota Gov. Kristi Noem say she is here tonight because America is an exceptional nation founded on equality, freedom, and opportunity. She says our founding principles are under attack and this election is between a man who believes in these ideals and someone who doesn’t and hasn’t built anything. After citing James Madison extensively, she says Americans will not be a subclass of experts. Noem rips the violence of the mobs and says the people who can’t afford to flee are left to fend for themselves.'"
      ]
     },
     "execution_count": 76,
     "metadata": {},
     "output_type": "execute_result"
    }
   ],
   "source": [
    "breitbart2"
   ]
  },
  {
   "cell_type": "code",
   "execution_count": 77,
   "metadata": {},
   "outputs": [
    {
     "name": "stdout",
     "output_type": "stream",
     "text": [
      "===========================================================================\n",
      "Your answer:\n",
      "------------\n",
      "  - This passage leans toward the right in the political spectrum.\n",
      "  - It is approximately  41.78% percent biased to the right.\n",
      "  - This model succeeds in predicting the political bias.\n",
      "===========================================================================\n"
     ]
    },
    {
     "data": {
      "text/plain": [
       "(1,\n",
       " array([[0.5896231 ],\n",
       "        [0.5668864 ],\n",
       "        [0.93163466],\n",
       "        [0.8703337 ],\n",
       "        [0.669606  ],\n",
       "        [0.6253987 ]], dtype=float32),\n",
       " array([[0.4103769 ],\n",
       "        [0.43311357],\n",
       "        [0.06836534],\n",
       "        [0.12966633],\n",
       "        [0.33039403],\n",
       "        [0.3746013 ]], dtype=float32))"
      ]
     },
     "execution_count": 77,
     "metadata": {},
     "output_type": "execute_result"
    }
   ],
   "source": [
    "test(breitbart2, 1, passage=True)"
   ]
  },
  {
   "cell_type": "code",
   "execution_count": 80,
   "metadata": {},
   "outputs": [],
   "source": [
    "breitbart3 = 'I want my daughter to grow up in President Donald Trump’s America, she said. She spoke about her values, the importance of God in the public square, respect for life, and safe neighborhoods, and she said that President Trump would continue fighting for them. “I choose to work for this President for her,” she said. “When I look into my baby’s eyes, I see a new life, a miracle for which I have a solemn responsibility to protect.” McEnany also spoke about choosing to have a preventative mastectomy, recalling that she was “blown away” that President Donald Trump called her personally to check in on her after the surgery. “I can tell you that this President loves the American people, stands by Americans with preexisting conditions, and supports working moms,” she said. Since becoming press secretary, McEnany said she witnessed, personally, the president’s love for the American people, calling parents who lost children to crime, writing to loved ones of fallen soldiers, fighting for Americans who lost their jobs. “The same way President Trump has supported me, he supports you,” she said. I see it every day.'"
   ]
  },
  {
   "cell_type": "code",
   "execution_count": 81,
   "metadata": {},
   "outputs": [
    {
     "data": {
      "text/plain": [
       "'I want my daughter to grow up in President Donald Trump’s America, she said. She spoke about her values, the importance of God in the public square, respect for life, and safe neighborhoods, and she said that President Trump would continue fighting for them. “I choose to work for this President for her,” she said. “When I look into my baby’s eyes, I see a new life, a miracle for which I have a solemn responsibility to protect.” McEnany also spoke about choosing to have a preventative mastectomy, recalling that she was “blown away” that President Donald Trump called her personally to check in on her after the surgery. “I can tell you that this President loves the American people, stands by Americans with preexisting conditions, and supports working moms,” she said. Since becoming press secretary, McEnany said she witnessed, personally, the president’s love for the American people, calling parents who lost children to crime, writing to loved ones of fallen soldiers, fighting for Americans who lost their jobs. “The same way President Trump has supported me, he supports you,” she said. I see it every day.'"
      ]
     },
     "execution_count": 81,
     "metadata": {},
     "output_type": "execute_result"
    }
   ],
   "source": [
    "breitbart3"
   ]
  },
  {
   "cell_type": "code",
   "execution_count": 82,
   "metadata": {},
   "outputs": [
    {
     "name": "stdout",
     "output_type": "stream",
     "text": [
      "===========================================================================\n",
      "Your answer:\n",
      "------------\n",
      "  - This passage leans toward the right in the political spectrum.\n",
      "  - It is approximately  13.83% percent biased to the right.\n",
      "  - This model succeeds in predicting the political bias.\n",
      "===========================================================================\n"
     ]
    },
    {
     "data": {
      "text/plain": [
       "(1,\n",
       " array([[0.6152513 ],\n",
       "        [0.7805917 ],\n",
       "        [0.4215792 ],\n",
       "        [0.57953906],\n",
       "        [0.40641442],\n",
       "        [0.85909486],\n",
       "        [0.5053282 ],\n",
       "        [0.3852301 ]], dtype=float32),\n",
       " array([[0.3847487 ],\n",
       "        [0.21940827],\n",
       "        [0.57842076],\n",
       "        [0.42046094],\n",
       "        [0.5935856 ],\n",
       "        [0.14090514],\n",
       "        [0.49467182],\n",
       "        [0.61476994]], dtype=float32))"
      ]
     },
     "execution_count": 82,
     "metadata": {},
     "output_type": "execute_result"
    }
   ],
   "source": [
    "test(breitbart3, 1, passage=True)"
   ]
  },
  {
   "cell_type": "code",
   "execution_count": null,
   "metadata": {},
   "outputs": [],
   "source": []
  }
 ],
 "metadata": {
  "kernelspec": {
   "display_name": "Python 3",
   "language": "python",
   "name": "python3"
  },
  "language_info": {
   "codemirror_mode": {
    "name": "ipython",
    "version": 3
   },
   "file_extension": ".py",
   "mimetype": "text/x-python",
   "name": "python",
   "nbconvert_exporter": "python",
   "pygments_lexer": "ipython3",
   "version": "3.7.7"
  }
 },
 "nbformat": 4,
 "nbformat_minor": 4
}
