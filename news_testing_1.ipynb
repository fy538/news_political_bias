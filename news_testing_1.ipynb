{
 "cells": [
  {
   "cell_type": "markdown",
   "metadata": {},
   "source": [
    "# Testing Political Bias with Neural Networks (Stacking LSTM)"
   ]
  },
  {
   "cell_type": "markdown",
   "metadata": {},
   "source": [
    "##### Importing Libraries and Loading data"
   ]
  },
  {
   "cell_type": "code",
   "execution_count": 117,
   "metadata": {
    "scrolled": true
   },
   "outputs": [
    {
     "name": "stderr",
     "output_type": "stream",
     "text": [
      "/Users/feihuyan/anaconda3/lib/python3.7/site-packages/ipykernel_launcher.py:4: FutureWarning: Passing a negative integer is deprecated in version 1.0 and will not be supported in future version. Instead, use None to not limit the column width.\n",
      "  after removing the cwd from sys.path.\n"
     ]
    }
   ],
   "source": [
    "import pandas as pd\n",
    "import numpy as np\n",
    "from tqdm import tqdm\n",
    "pd.set_option('display.max_colwidth', -1)"
   ]
  },
  {
   "cell_type": "code",
   "execution_count": 118,
   "metadata": {},
   "outputs": [],
   "source": [
    "df1 = pd.read_csv('/Users/feihuyan/Downloads/news/articles1.csv')\n",
    "df2 = pd.read_csv('/Users/feihuyan/Downloads/news/articles2.csv')\n",
    "df3 = pd.read_csv('/Users/feihuyan/Downloads/news/articles3.csv')"
   ]
  },
  {
   "cell_type": "markdown",
   "metadata": {},
   "source": [
    "##### Preparing data"
   ]
  },
  {
   "cell_type": "code",
   "execution_count": 119,
   "metadata": {},
   "outputs": [],
   "source": [
    "df = pd.concat([df1, df2, df3])"
   ]
  },
  {
   "cell_type": "code",
   "execution_count": 125,
   "metadata": {},
   "outputs": [],
   "source": [
    "bias1 = { 'Atlantic': 2,\n",
    "         'Breitbart': 1,\n",
    "         'Business Insider': 2,\n",
    "         'Buzzfeed News': 2,\n",
    "         'CNN': 0,\n",
    "         'Fox News': 1,\n",
    "         'Guardian': 2,\n",
    "         'NPR': 2,\n",
    "         'National Review': 2,\n",
    "         'New York Post': 2,\n",
    "         'New York Times': 0,\n",
    "         'Reuters': 2,\n",
    "         'Talking Points Memo': 2,\n",
    "         'Vox': 2,\n",
    "         'Washington Post': 2}\n",
    "df['bias1'] = df['publication'].map(bias1)\n",
    "left = df[df['bias1'] == 0]\n",
    "right = df[df['bias1'] == 1]"
   ]
  },
  {
   "cell_type": "code",
   "execution_count": 126,
   "metadata": {},
   "outputs": [],
   "source": [
    "from nltk.tokenize import sent_tokenize\n",
    "def passage_to_sentences(df, political_affiliation):\n",
    "    l = []\n",
    "    for row in tqdm(df):\n",
    "        for sentence in sent_tokenize(row):\n",
    "            l.append(sentence)\n",
    "    result = pd.DataFrame({'text': l, 'target': political_affiliation})\n",
    "    return result"
   ]
  },
  {
   "cell_type": "code",
   "execution_count": 127,
   "metadata": {},
   "outputs": [
    {
     "name": "stderr",
     "output_type": "stream",
     "text": [
      "100%|██████████| 19291/19291 [00:31<00:00, 618.89it/s]\n"
     ]
    }
   ],
   "source": [
    "left_sent = passage_to_sentences(left['content'], 0)"
   ]
  },
  {
   "cell_type": "code",
   "execution_count": 128,
   "metadata": {},
   "outputs": [
    {
     "name": "stderr",
     "output_type": "stream",
     "text": [
      "100%|██████████| 28135/28135 [00:23<00:00, 1198.71it/s]\n"
     ]
    }
   ],
   "source": [
    "right_sent = passage_to_sentences(right['content'], 1)"
   ]
  },
  {
   "cell_type": "code",
   "execution_count": 129,
   "metadata": {},
   "outputs": [],
   "source": [
    "train_df = pd.concat([left_sent, right_sent])\n",
    "train_df = train_df.sample(frac=1)\n",
    "tokenizer = Tokenizer(num_words=30000)\n",
    "tokenizer.fit_on_texts(list(train_df['text']))"
   ]
  },
  {
   "cell_type": "markdown",
   "metadata": {},
   "source": [
    "##### Testing"
   ]
  },
  {
   "cell_type": "code",
   "execution_count": 223,
   "metadata": {},
   "outputs": [],
   "source": [
    "from nltk.tokenize import sent_tokenize\n",
    "from tensorflow import keras\n",
    "from keras.preprocessing.text import Tokenizer\n",
    "from keras.preprocessing.sequence import pad_sequences\n",
    "stacked_lstm = keras.models.load_model('/Users/feihuyan/news_stack_lstm')"
   ]
  },
  {
   "cell_type": "code",
   "execution_count": 226,
   "metadata": {},
   "outputs": [],
   "source": [
    "def test(text, model, true_class, verbose=True, verbose_r=False, passage=True, check=True):\n",
    "    test_text = []\n",
    "    if passage: \n",
    "        for sentence in sent_tokenize(text):\n",
    "            test_text.append(sentence)\n",
    "    else:\n",
    "        test_text = [text]\n",
    "    \n",
    "    text_token = tokenizer.texts_to_sequences(test_text)\n",
    "    text_pad = pad_sequences(text_token, maxlen = 25)\n",
    "    pred_class = model.predict_classes(text_pad)\n",
    "    pred_score = model.predict(text_pad)\n",
    "    naive_loss = abs(true_class - pred_score)\n",
    "    \n",
    "    pol_class = 'right'\n",
    "    content = 'sentence'\n",
    "    success = 'succeeds'\n",
    " \n",
    "    pred_score_passage = np.sum(pred_score)/int(len(text_pad))\n",
    "    if passage:\n",
    "        pred_class = 1\n",
    "        if pred_score_passage < 0.5: pred_class, pol_class = 0, 'left'\n",
    "        bias = float(abs(0.5-pred_score_passage)/0.5*100)\n",
    "        content = 'passage'\n",
    "        if check: \n",
    "            if pred_class != true_class: success = 'fails'\n",
    "    else:\n",
    "        if pred_score < 0.5: pol_class = 'left'\n",
    "        bias = float(abs(0.5-pred_score)/0.5*100)\n",
    "        if check: \n",
    "            if pred_class != true_class: success = 'fails'\n",
    "    \n",
    "    if verbose_r:\n",
    "        print('=======================================================================')\n",
    "        print('Your answer:')\n",
    "        print('------------')\n",
    "        print(f'  - This {content} leans toward the {pol_class} in the political spectrum.')\n",
    "        print(f'  - It is approximately {bias: .2f}% percent biased to the {pol_class}.')\n",
    "        print(f'  - This model {success} in predicting the political bias.')\n",
    "        print('=======================================================================')\n",
    "    \n",
    "    return pred_class, pred_score, naive_loss, bias"
   ]
  },
  {
   "cell_type": "code",
   "execution_count": 244,
   "metadata": {},
   "outputs": [],
   "source": [
    "def batch_testing(df, publication, model, true_class, num_rows):\n",
    "    i = 0 \n",
    "    b = 0\n",
    "    l = []\n",
    "    result = 0\n",
    "    pol_class = 'right'\n",
    "    df_temp = df[df['publication'] == publication]['content']\n",
    "    df_input = df_temp[:num_rows]\n",
    "    for row in tqdm(df_input):\n",
    "        x = test(row, model, true_class)\n",
    "        i += int(x[0])\n",
    "        score = sum(x[1])/len(x[1])\n",
    "        b += score\n",
    "        l.append(score)\n",
    "    try:\n",
    "        bias_total = b/len(df_input)\n",
    "    except ZeroDivisionError:\n",
    "        print('ERROR: review your input please...')\n",
    "    if true_class == 0: \n",
    "        result = 1-i/len(df_input)\n",
    "        pol_class = 'left'\n",
    "    else: result = i/len(df_input)\n",
    "    std = np.std(l)\n",
    "    print('========================================================================')\n",
    "    print(f'Testing {num_rows} articles from {publication}')\n",
    "    print(f'Articles in batch are generally ({result*100}%) towards the {pol_class}')\n",
    "    print(f'Standard deviation : {std: .4f}')\n",
    "    print(f'Total bias score: {bias_total}')\n",
    "    print('========================================================================')\n",
    "    return result, bias_total"
   ]
  },
  {
   "cell_type": "code",
   "execution_count": 245,
   "metadata": {},
   "outputs": [],
   "source": [
    "convnn = keras.models.load_model('/Users/feihuyan/news_convnn')\n",
    "lstm = keras.models.load_model('/Users/feihuyan/news_lstm')\n",
    "rnn = keras.models.load_model('/Users/feihuyan/news_rnn')\n",
    "nn = keras.models.load_model('/Users/feihuyan/news_nn')"
   ]
  },
  {
   "cell_type": "markdown",
   "metadata": {},
   "source": [
    "### Testing Breitbart"
   ]
  },
  {
   "cell_type": "code",
   "execution_count": 278,
   "metadata": {
    "scrolled": true
   },
   "outputs": [
    {
     "name": "stderr",
     "output_type": "stream",
     "text": [
      "100%|██████████| 2000/2000 [04:30<00:00,  7.40it/s]"
     ]
    },
    {
     "name": "stdout",
     "output_type": "stream",
     "text": [
      "========================================================================\n",
      "Testing 2000 articles from Breitbart\n",
      "Articles in batch are generally (89.9%) towards the right\n",
      "Standard deviation :  0.1129\n",
      "Total bias score: [0.6448016]\n",
      "========================================================================\n"
     ]
    },
    {
     "name": "stderr",
     "output_type": "stream",
     "text": [
      "\n"
     ]
    }
   ],
   "source": [
    "breitbart = batch_testing(df, 'Breitbart', stacked_lstm, 1, 2000)"
   ]
  },
  {
   "cell_type": "code",
   "execution_count": 279,
   "metadata": {},
   "outputs": [
    {
     "name": "stderr",
     "output_type": "stream",
     "text": [
      "100%|██████████| 2000/2000 [01:57<00:00, 17.04it/s]\n"
     ]
    },
    {
     "name": "stdout",
     "output_type": "stream",
     "text": [
      "========================================================================\n",
      "Testing 2000 articles from Breitbart\n",
      "Articles in batch are generally (92.9%) towards the right\n",
      "Standard deviation :  0.1152\n",
      "Total bias score: [0.6703297]\n",
      "========================================================================\n"
     ]
    }
   ],
   "source": [
    "breitbart = batch_testing(df, 'Breitbart', convnn, 1, 2000)"
   ]
  },
  {
   "cell_type": "code",
   "execution_count": 280,
   "metadata": {},
   "outputs": [
    {
     "name": "stderr",
     "output_type": "stream",
     "text": [
      "100%|██████████| 2000/2000 [02:24<00:00, 13.83it/s]"
     ]
    },
    {
     "name": "stdout",
     "output_type": "stream",
     "text": [
      "========================================================================\n",
      "Testing 2000 articles from Breitbart\n",
      "Articles in batch are generally (84.3%) towards the right\n",
      "Standard deviation :  0.1220\n",
      "Total bias score: [0.6176962]\n",
      "========================================================================\n"
     ]
    },
    {
     "name": "stderr",
     "output_type": "stream",
     "text": [
      "\n"
     ]
    }
   ],
   "source": [
    "breitbart = batch_testing(df, 'Breitbart', lstm, 1, 2000)"
   ]
  },
  {
   "cell_type": "code",
   "execution_count": 281,
   "metadata": {},
   "outputs": [
    {
     "name": "stderr",
     "output_type": "stream",
     "text": [
      "100%|██████████| 2000/2000 [01:59<00:00, 16.67it/s]"
     ]
    },
    {
     "name": "stdout",
     "output_type": "stream",
     "text": [
      "========================================================================\n",
      "Testing 2000 articles from Breitbart\n",
      "Articles in batch are generally (79.05%) towards the right\n",
      "Standard deviation :  0.1122\n",
      "Total bias score: [0.5884283]\n",
      "========================================================================\n"
     ]
    },
    {
     "name": "stderr",
     "output_type": "stream",
     "text": [
      "\n"
     ]
    }
   ],
   "source": [
    "breitbart = batch_testing(df, 'Breitbart', rnn, 1, 2000)"
   ]
  },
  {
   "cell_type": "code",
   "execution_count": 282,
   "metadata": {},
   "outputs": [
    {
     "name": "stderr",
     "output_type": "stream",
     "text": [
      "100%|██████████| 2000/2000 [01:53<00:00, 17.62it/s]"
     ]
    },
    {
     "name": "stdout",
     "output_type": "stream",
     "text": [
      "========================================================================\n",
      "Testing 2000 articles from Breitbart\n",
      "Articles in batch are generally (79.0%) towards the right\n",
      "Standard deviation :  0.1118\n",
      "Total bias score: [0.5856423]\n",
      "========================================================================\n"
     ]
    },
    {
     "name": "stderr",
     "output_type": "stream",
     "text": [
      "\n"
     ]
    }
   ],
   "source": [
    "breitbart = batch_testing(df, 'Breitbart', nn, 1, 2000)"
   ]
  },
  {
   "cell_type": "markdown",
   "metadata": {},
   "source": [
    "### Testing Guardian"
   ]
  },
  {
   "cell_type": "code",
   "execution_count": 283,
   "metadata": {},
   "outputs": [
    {
     "name": "stderr",
     "output_type": "stream",
     "text": [
      "100%|██████████| 2000/2000 [06:40<00:00,  4.99it/s]"
     ]
    },
    {
     "name": "stdout",
     "output_type": "stream",
     "text": [
      "========================================================================\n",
      "Testing 2000 articles from Guardian\n",
      "Articles in batch are generally (66.75%) towards the left\n",
      "Standard deviation :  0.0857\n",
      "Total bias score: [0.46471673]\n",
      "========================================================================\n"
     ]
    },
    {
     "name": "stderr",
     "output_type": "stream",
     "text": [
      "\n"
     ]
    }
   ],
   "source": [
    "guard = batch_testing(df, 'Guardian', stacked_lstm, 0, 2000)"
   ]
  },
  {
   "cell_type": "code",
   "execution_count": 284,
   "metadata": {},
   "outputs": [
    {
     "name": "stderr",
     "output_type": "stream",
     "text": [
      "100%|██████████| 2000/2000 [02:03<00:00, 16.19it/s]"
     ]
    },
    {
     "name": "stdout",
     "output_type": "stream",
     "text": [
      "========================================================================\n",
      "Testing 2000 articles from Guardian\n",
      "Articles in batch are generally (63.74999999999999%) towards the left\n",
      "Standard deviation :  0.0904\n",
      "Total bias score: [0.4697565]\n",
      "========================================================================\n"
     ]
    },
    {
     "name": "stderr",
     "output_type": "stream",
     "text": [
      "\n"
     ]
    }
   ],
   "source": [
    "guard = batch_testing(df, 'Guardian', convnn, 0, 2000)"
   ]
  },
  {
   "cell_type": "code",
   "execution_count": 285,
   "metadata": {},
   "outputs": [
    {
     "name": "stderr",
     "output_type": "stream",
     "text": [
      "100%|██████████| 2000/2000 [02:58<00:00, 11.21it/s]\n"
     ]
    },
    {
     "name": "stdout",
     "output_type": "stream",
     "text": [
      "========================================================================\n",
      "Testing 2000 articles from Guardian\n",
      "Articles in batch are generally (82.05%) towards the left\n",
      "Standard deviation :  0.0837\n",
      "Total bias score: [0.4277601]\n",
      "========================================================================\n"
     ]
    }
   ],
   "source": [
    "guard = batch_testing(df, 'Guardian', lstm, 0, 2000)"
   ]
  },
  {
   "cell_type": "code",
   "execution_count": 286,
   "metadata": {},
   "outputs": [
    {
     "name": "stderr",
     "output_type": "stream",
     "text": [
      "100%|██████████| 2000/2000 [02:11<00:00, 15.20it/s]"
     ]
    },
    {
     "name": "stdout",
     "output_type": "stream",
     "text": [
      "========================================================================\n",
      "Testing 2000 articles from Guardian\n",
      "Articles in batch are generally (79.45%) towards the left\n",
      "Standard deviation :  0.0795\n",
      "Total bias score: [0.43806446]\n",
      "========================================================================\n"
     ]
    },
    {
     "name": "stderr",
     "output_type": "stream",
     "text": [
      "\n"
     ]
    }
   ],
   "source": [
    "guard = batch_testing(df, 'Guardian', rnn, 0, 2000)"
   ]
  },
  {
   "cell_type": "code",
   "execution_count": 287,
   "metadata": {},
   "outputs": [
    {
     "name": "stderr",
     "output_type": "stream",
     "text": [
      "100%|██████████| 2000/2000 [01:57<00:00, 17.07it/s]"
     ]
    },
    {
     "name": "stdout",
     "output_type": "stream",
     "text": [
      "========================================================================\n",
      "Testing 2000 articles from Guardian\n",
      "Articles in batch are generally (83.8%) towards the left\n",
      "Standard deviation :  0.0781\n",
      "Total bias score: [0.4258068]\n",
      "========================================================================\n"
     ]
    },
    {
     "name": "stderr",
     "output_type": "stream",
     "text": [
      "\n"
     ]
    }
   ],
   "source": [
    "guard = batch_testing(df, 'Guardian', nn, 0, 2000)"
   ]
  },
  {
   "cell_type": "markdown",
   "metadata": {},
   "source": [
    "### Testing Washington Post"
   ]
  },
  {
   "cell_type": "code",
   "execution_count": 288,
   "metadata": {},
   "outputs": [
    {
     "name": "stderr",
     "output_type": "stream",
     "text": [
      "100%|██████████| 2000/2000 [07:59<00:00,  4.17it/s]\n"
     ]
    },
    {
     "name": "stdout",
     "output_type": "stream",
     "text": [
      "========================================================================\n",
      "Testing 2000 articles from Washington Post\n",
      "Articles in batch are generally (52.0%) towards the left\n",
      "Standard deviation :  0.0889\n",
      "Total bias score: [0.49565268]\n",
      "========================================================================\n"
     ]
    }
   ],
   "source": [
    "wp = batch_testing(df, 'Washington Post', stacked_lstm, 0, 2000)"
   ]
  },
  {
   "cell_type": "code",
   "execution_count": 289,
   "metadata": {},
   "outputs": [
    {
     "name": "stderr",
     "output_type": "stream",
     "text": [
      "100%|██████████| 2000/2000 [02:06<00:00, 15.87it/s]"
     ]
    },
    {
     "name": "stdout",
     "output_type": "stream",
     "text": [
      "========================================================================\n",
      "Testing 2000 articles from Washington Post\n",
      "Articles in batch are generally (52.900000000000006%) towards the left\n",
      "Standard deviation :  0.0884\n",
      "Total bias score: [0.49322283]\n",
      "========================================================================\n"
     ]
    },
    {
     "name": "stderr",
     "output_type": "stream",
     "text": [
      "\n"
     ]
    }
   ],
   "source": [
    "wp = batch_testing(df, 'Washington Post', convnn, 0, 2000)"
   ]
  },
  {
   "cell_type": "code",
   "execution_count": 290,
   "metadata": {},
   "outputs": [
    {
     "name": "stderr",
     "output_type": "stream",
     "text": [
      "100%|██████████| 2000/2000 [03:02<00:00, 10.94it/s]"
     ]
    },
    {
     "name": "stdout",
     "output_type": "stream",
     "text": [
      "========================================================================\n",
      "Testing 2000 articles from Washington Post\n",
      "Articles in batch are generally (68.8%) towards the left\n",
      "Standard deviation :  0.0893\n",
      "Total bias score: [0.45934796]\n",
      "========================================================================\n"
     ]
    },
    {
     "name": "stderr",
     "output_type": "stream",
     "text": [
      "\n"
     ]
    }
   ],
   "source": [
    "wp = batch_testing(df, 'Washington Post', lstm, 0, 2000)"
   ]
  },
  {
   "cell_type": "code",
   "execution_count": 291,
   "metadata": {},
   "outputs": [
    {
     "name": "stderr",
     "output_type": "stream",
     "text": [
      "100%|██████████| 2000/2000 [02:20<00:00, 14.25it/s]\n"
     ]
    },
    {
     "name": "stdout",
     "output_type": "stream",
     "text": [
      "========================================================================\n",
      "Testing 2000 articles from Washington Post\n",
      "Articles in batch are generally (71.45%) towards the left\n",
      "Standard deviation :  0.0831\n",
      "Total bias score: [0.45616978]\n",
      "========================================================================\n"
     ]
    }
   ],
   "source": [
    "wp = batch_testing(df, 'Washington Post', rnn, 0, 2000)"
   ]
  },
  {
   "cell_type": "code",
   "execution_count": 292,
   "metadata": {},
   "outputs": [
    {
     "name": "stderr",
     "output_type": "stream",
     "text": [
      "100%|██████████| 2000/2000 [02:02<00:00, 16.28it/s]"
     ]
    },
    {
     "name": "stdout",
     "output_type": "stream",
     "text": [
      "========================================================================\n",
      "Testing 2000 articles from Washington Post\n",
      "Articles in batch are generally (72.39999999999999%) towards the left\n",
      "Standard deviation :  0.0811\n",
      "Total bias score: [0.45311067]\n",
      "========================================================================\n"
     ]
    },
    {
     "name": "stderr",
     "output_type": "stream",
     "text": [
      "\n"
     ]
    }
   ],
   "source": [
    "wp = batch_testing(df, 'Washington Post', nn, 0, 2000)"
   ]
  },
  {
   "cell_type": "markdown",
   "metadata": {},
   "source": [
    "### Testing National Review"
   ]
  },
  {
   "cell_type": "code",
   "execution_count": 296,
   "metadata": {},
   "outputs": [
    {
     "name": "stderr",
     "output_type": "stream",
     "text": [
      "100%|██████████| 1000/1000 [03:33<00:00,  4.69it/s]"
     ]
    },
    {
     "name": "stdout",
     "output_type": "stream",
     "text": [
      "========================================================================\n",
      "Testing 1000 articles from National Review\n",
      "Articles in batch are generally (66.4%) towards the right\n",
      "Standard deviation :  0.0758\n",
      "Total bias score: [0.53111553]\n",
      "========================================================================\n"
     ]
    },
    {
     "name": "stderr",
     "output_type": "stream",
     "text": [
      "\n"
     ]
    }
   ],
   "source": [
    "nr = batch_testing(df, 'National Review', stacked_lstm, 1, 1000)"
   ]
  },
  {
   "cell_type": "code",
   "execution_count": 297,
   "metadata": {},
   "outputs": [
    {
     "name": "stderr",
     "output_type": "stream",
     "text": [
      "100%|██████████| 1000/1000 [01:01<00:00, 16.37it/s]"
     ]
    },
    {
     "name": "stdout",
     "output_type": "stream",
     "text": [
      "========================================================================\n",
      "Testing 1000 articles from National Review\n",
      "Articles in batch are generally (71.2%) towards the right\n",
      "Standard deviation :  0.0779\n",
      "Total bias score: [0.5403635]\n",
      "========================================================================\n"
     ]
    },
    {
     "name": "stderr",
     "output_type": "stream",
     "text": [
      "\n"
     ]
    }
   ],
   "source": [
    "nr = batch_testing(df, 'National Review', convnn, 1, 1000)"
   ]
  },
  {
   "cell_type": "code",
   "execution_count": 298,
   "metadata": {},
   "outputs": [
    {
     "name": "stderr",
     "output_type": "stream",
     "text": [
      "100%|██████████| 1000/1000 [01:25<00:00, 11.69it/s]"
     ]
    },
    {
     "name": "stdout",
     "output_type": "stream",
     "text": [
      "========================================================================\n",
      "Testing 1000 articles from National Review\n",
      "Articles in batch are generally (48.199999999999996%) towards the right\n",
      "Standard deviation :  0.0754\n",
      "Total bias score: [0.49454114]\n",
      "========================================================================\n"
     ]
    },
    {
     "name": "stderr",
     "output_type": "stream",
     "text": [
      "\n"
     ]
    }
   ],
   "source": [
    "nr = batch_testing(df, 'National Review', lstm, 1, 1000)"
   ]
  },
  {
   "cell_type": "code",
   "execution_count": 299,
   "metadata": {},
   "outputs": [
    {
     "name": "stderr",
     "output_type": "stream",
     "text": [
      "100%|██████████| 1000/1000 [01:04<00:00, 15.51it/s]"
     ]
    },
    {
     "name": "stdout",
     "output_type": "stream",
     "text": [
      "========================================================================\n",
      "Testing 1000 articles from National Review\n",
      "Articles in batch are generally (46.7%) towards the right\n",
      "Standard deviation :  0.0696\n",
      "Total bias score: [0.49423274]\n",
      "========================================================================\n"
     ]
    },
    {
     "name": "stderr",
     "output_type": "stream",
     "text": [
      "\n"
     ]
    }
   ],
   "source": [
    "nr = batch_testing(df, 'National Review', rnn, 1, 1000)"
   ]
  },
  {
   "cell_type": "code",
   "execution_count": 300,
   "metadata": {},
   "outputs": [
    {
     "name": "stderr",
     "output_type": "stream",
     "text": [
      "100%|██████████| 1000/1000 [00:58<00:00, 17.17it/s]"
     ]
    },
    {
     "name": "stdout",
     "output_type": "stream",
     "text": [
      "========================================================================\n",
      "Testing 1000 articles from National Review\n",
      "Articles in batch are generally (46.300000000000004%) towards the right\n",
      "Standard deviation :  0.0692\n",
      "Total bias score: [0.49429196]\n",
      "========================================================================\n"
     ]
    },
    {
     "name": "stderr",
     "output_type": "stream",
     "text": [
      "\n"
     ]
    }
   ],
   "source": [
    "nr = batch_testing(df, 'National Review', nn, 1, 1000)"
   ]
  },
  {
   "cell_type": "markdown",
   "metadata": {},
   "source": [
    "### Testing Talking Points Memo"
   ]
  },
  {
   "cell_type": "code",
   "execution_count": 301,
   "metadata": {},
   "outputs": [
    {
     "name": "stderr",
     "output_type": "stream",
     "text": [
      "100%|██████████| 1000/1000 [02:12<00:00,  7.54it/s]"
     ]
    },
    {
     "name": "stdout",
     "output_type": "stream",
     "text": [
      "========================================================================\n",
      "Testing 1000 articles from Talking Points Memo\n",
      "Articles in batch are generally (44.49999999999999%) towards the left\n",
      "Standard deviation :  0.1395\n",
      "Total bias score: [0.52180046]\n",
      "========================================================================\n"
     ]
    },
    {
     "name": "stderr",
     "output_type": "stream",
     "text": [
      "\n"
     ]
    }
   ],
   "source": [
    "tpm = batch_testing(df, 'Talking Points Memo', stacked_lstm, 0, 1000)"
   ]
  },
  {
   "cell_type": "code",
   "execution_count": 302,
   "metadata": {},
   "outputs": [
    {
     "name": "stderr",
     "output_type": "stream",
     "text": [
      "100%|██████████| 1000/1000 [01:00<00:00, 16.43it/s]"
     ]
    },
    {
     "name": "stdout",
     "output_type": "stream",
     "text": [
      "========================================================================\n",
      "Testing 1000 articles from Talking Points Memo\n",
      "Articles in batch are generally (44.199999999999996%) towards the left\n",
      "Standard deviation :  0.1496\n",
      "Total bias score: [0.5237587]\n",
      "========================================================================\n"
     ]
    },
    {
     "name": "stderr",
     "output_type": "stream",
     "text": [
      "\n"
     ]
    }
   ],
   "source": [
    "tpm = batch_testing(df, 'Talking Points Memo', convnn, 0, 1000)"
   ]
  },
  {
   "cell_type": "code",
   "execution_count": 303,
   "metadata": {},
   "outputs": [
    {
     "name": "stderr",
     "output_type": "stream",
     "text": [
      "100%|██████████| 1000/1000 [01:11<00:00, 13.94it/s]"
     ]
    },
    {
     "name": "stdout",
     "output_type": "stream",
     "text": [
      "========================================================================\n",
      "Testing 1000 articles from Talking Points Memo\n",
      "Articles in batch are generally (61.199999999999996%) towards the left\n",
      "Standard deviation :  0.1467\n",
      "Total bias score: [0.47595504]\n",
      "========================================================================\n"
     ]
    },
    {
     "name": "stderr",
     "output_type": "stream",
     "text": [
      "\n"
     ]
    }
   ],
   "source": [
    "tpm = batch_testing(df, 'Talking Points Memo', lstm, 0, 1000)"
   ]
  },
  {
   "cell_type": "code",
   "execution_count": 304,
   "metadata": {},
   "outputs": [
    {
     "name": "stderr",
     "output_type": "stream",
     "text": [
      "100%|██████████| 1000/1000 [01:00<00:00, 16.53it/s]"
     ]
    },
    {
     "name": "stdout",
     "output_type": "stream",
     "text": [
      "========================================================================\n",
      "Testing 1000 articles from Talking Points Memo\n",
      "Articles in batch are generally (61.1%) towards the left\n",
      "Standard deviation :  0.1365\n",
      "Total bias score: [0.47636384]\n",
      "========================================================================\n"
     ]
    },
    {
     "name": "stderr",
     "output_type": "stream",
     "text": [
      "\n"
     ]
    }
   ],
   "source": [
    "tpm = batch_testing(df, 'Talking Points Memo', rnn, 0, 1000)"
   ]
  },
  {
   "cell_type": "code",
   "execution_count": 305,
   "metadata": {},
   "outputs": [
    {
     "name": "stderr",
     "output_type": "stream",
     "text": [
      "100%|██████████| 1000/1000 [00:56<00:00, 17.72it/s]"
     ]
    },
    {
     "name": "stdout",
     "output_type": "stream",
     "text": [
      "========================================================================\n",
      "Testing 1000 articles from Talking Points Memo\n",
      "Articles in batch are generally (58.3%) towards the left\n",
      "Standard deviation :  0.1277\n",
      "Total bias score: [0.48654646]\n",
      "========================================================================\n"
     ]
    },
    {
     "name": "stderr",
     "output_type": "stream",
     "text": [
      "\n"
     ]
    }
   ],
   "source": [
    "tpm = batch_testing(df, 'Talking Points Memo', nn, 0, 1000)"
   ]
  },
  {
   "cell_type": "markdown",
   "metadata": {},
   "source": [
    "### Testing CNN"
   ]
  },
  {
   "cell_type": "code",
   "execution_count": 306,
   "metadata": {},
   "outputs": [
    {
     "name": "stderr",
     "output_type": "stream",
     "text": [
      "100%|██████████| 2000/2000 [05:36<00:00,  5.95it/s]"
     ]
    },
    {
     "name": "stdout",
     "output_type": "stream",
     "text": [
      "========================================================================\n",
      "Testing 2000 articles from CNN\n",
      "Articles in batch are generally (94.10000000000001%) towards the left\n",
      "Standard deviation :  0.0911\n",
      "Total bias score: [0.36568773]\n",
      "========================================================================\n"
     ]
    },
    {
     "name": "stderr",
     "output_type": "stream",
     "text": [
      "\n"
     ]
    }
   ],
   "source": [
    "cnn = batch_testing(df, 'CNN', stacked_lstm, 0, 2000)"
   ]
  },
  {
   "cell_type": "code",
   "execution_count": 307,
   "metadata": {},
   "outputs": [
    {
     "name": "stderr",
     "output_type": "stream",
     "text": [
      "100%|██████████| 2000/2000 [01:59<00:00, 16.74it/s]"
     ]
    },
    {
     "name": "stdout",
     "output_type": "stream",
     "text": [
      "========================================================================\n",
      "Testing 2000 articles from CNN\n",
      "Articles in batch are generally (94.25%) towards the left\n",
      "Standard deviation :  0.0974\n",
      "Total bias score: [0.34854847]\n",
      "========================================================================\n"
     ]
    },
    {
     "name": "stderr",
     "output_type": "stream",
     "text": [
      "\n"
     ]
    }
   ],
   "source": [
    "cnn = batch_testing(df, 'CNN', convnn, 0, 2000)"
   ]
  },
  {
   "cell_type": "code",
   "execution_count": 308,
   "metadata": {},
   "outputs": [
    {
     "name": "stderr",
     "output_type": "stream",
     "text": [
      "100%|██████████| 2000/2000 [02:36<00:00, 12.74it/s]"
     ]
    },
    {
     "name": "stdout",
     "output_type": "stream",
     "text": [
      "========================================================================\n",
      "Testing 2000 articles from CNN\n",
      "Articles in batch are generally (97.2%) towards the left\n",
      "Standard deviation :  0.0898\n",
      "Total bias score: [0.3165043]\n",
      "========================================================================\n"
     ]
    },
    {
     "name": "stderr",
     "output_type": "stream",
     "text": [
      "\n"
     ]
    }
   ],
   "source": [
    "cnn = batch_testing(df, 'CNN', lstm, 0, 2000)"
   ]
  },
  {
   "cell_type": "code",
   "execution_count": 309,
   "metadata": {},
   "outputs": [
    {
     "name": "stderr",
     "output_type": "stream",
     "text": [
      "100%|██████████| 2000/2000 [02:04<00:00, 16.01it/s]"
     ]
    },
    {
     "name": "stdout",
     "output_type": "stream",
     "text": [
      "========================================================================\n",
      "Testing 2000 articles from CNN\n",
      "Articles in batch are generally (96.5%) towards the left\n",
      "Standard deviation :  0.0845\n",
      "Total bias score: [0.34322616]\n",
      "========================================================================\n"
     ]
    },
    {
     "name": "stderr",
     "output_type": "stream",
     "text": [
      "\n"
     ]
    }
   ],
   "source": [
    "cnn = batch_testing(df, 'CNN', rnn, 0, 2000)"
   ]
  },
  {
   "cell_type": "code",
   "execution_count": 310,
   "metadata": {},
   "outputs": [
    {
     "name": "stderr",
     "output_type": "stream",
     "text": [
      "100%|██████████| 2000/2000 [01:56<00:00, 17.17it/s]\n"
     ]
    },
    {
     "name": "stdout",
     "output_type": "stream",
     "text": [
      "========================================================================\n",
      "Testing 2000 articles from CNN\n",
      "Articles in batch are generally (94.39999999999999%) towards the left\n",
      "Standard deviation :  0.0875\n",
      "Total bias score: [0.36225712]\n",
      "========================================================================\n"
     ]
    }
   ],
   "source": [
    "cnn = batch_testing(df, 'CNN', nn, 0, 2000)"
   ]
  },
  {
   "cell_type": "code",
   "execution_count": null,
   "metadata": {},
   "outputs": [],
   "source": []
  },
  {
   "cell_type": "code",
   "execution_count": null,
   "metadata": {},
   "outputs": [],
   "source": []
  }
 ],
 "metadata": {
  "kernelspec": {
   "display_name": "Python 3",
   "language": "python",
   "name": "python3"
  },
  "language_info": {
   "codemirror_mode": {
    "name": "ipython",
    "version": 3
   },
   "file_extension": ".py",
   "mimetype": "text/x-python",
   "name": "python",
   "nbconvert_exporter": "python",
   "pygments_lexer": "ipython3",
   "version": "3.7.7"
  }
 },
 "nbformat": 4,
 "nbformat_minor": 4
}
